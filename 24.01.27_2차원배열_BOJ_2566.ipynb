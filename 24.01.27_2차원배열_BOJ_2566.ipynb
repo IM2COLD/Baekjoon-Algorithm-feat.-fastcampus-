{
  "nbformat": 4,
  "nbformat_minor": 0,
  "metadata": {
    "colab": {
      "provenance": []
    },
    "kernelspec": {
      "name": "python3",
      "display_name": "Python 3"
    },
    "language_info": {
      "name": "python"
    }
  },
  "cells": [
    {
      "cell_type": "code",
      "execution_count": 6,
      "metadata": {
        "colab": {
          "base_uri": "https://localhost:8080/"
        },
        "id": "UdwgfFnr1OOa",
        "outputId": "95f4aace-53b9-4270-c7c6-93508cc37e6b"
      },
      "outputs": [
        {
          "output_type": "stream",
          "name": "stdout",
          "text": [
            "3 23 85 34 17 74 25 52 65\n",
            "10 7 39 42 88 52 14 72 63\n",
            "87 42 18 78 53 45 18 84 53\n",
            "34 28 64 85 12 16 75 36 55\n",
            "21 77 45 35 28 75 90 76 1\n",
            "25 87 65 15 28 11 37 28 74\n",
            "65 27 75 41 7 89 78 64 39\n",
            "47 47 70 45 23 65 3 41 44\n",
            "87 13 82 38 31 12 29 29 80\n",
            "87\n",
            "5 7\n"
          ]
        }
      ],
      "source": [
        "# My code\n",
        "origmax = 0\n",
        "rmbrow = 1 # 81칸이 모두 다 0일 경우 default 출력값\n",
        "rmbcol = 1\n",
        "for row in range(9):\n",
        "  [*args] = list(map(int,input().split())) # starred assignment target must be in a list or tuple\n",
        "  newmax = max(args)\n",
        "  if max(origmax, newmax) != origmax:\n",
        "    origmax = newmax\n",
        "    rmbrow = row+1\n",
        "    rmbcol = args.index(newmax)+1\n",
        "\n",
        "print(origmax)\n",
        "print(rmbrow, rmbcol)"
      ]
    },
    {
      "cell_type": "markdown",
      "source": [
        "#### 모범 답안\n",
        "\n",
        "\n",
        "```python\n",
        "L=*map(int,open(0).read().split())\n",
        "# open(0)은 표준 입력(stdin)에서 데이터를 읽기 위한 파일 객체를 열기\n",
        "# open(0).read()로 해당 파일 객체로부터 데이터를 읽기\n",
        "# *는 언패킹(unpacking) 연산자로, map 함수의 결과를 리스트로 풀어서 L에 저장\n",
        "a=L.index(M:=max(L))\n",
        "print(M,a//9+1,a%9+1)\n",
        "```\n",
        "\n",
        "> a=L.index(M:=max(L)):\n",
        "\n",
        "- max(L)는 리스트 L에서 최댓값을 찾습니다.\n",
        "- M:=는 할당 표현식(assignment expression)으로, max(L)의 결과를 M에 저장하면서 동시에 이 값을 반환합니다.\n",
        "- L.index(M)은 M이 처음으로 나타나는 인덱스를 반환합니다. 이를 a에 할당합니다.\n",
        "\n"
      ],
      "metadata": {
        "id": "y1gngNv84jhq"
      }
    }
  ]
}