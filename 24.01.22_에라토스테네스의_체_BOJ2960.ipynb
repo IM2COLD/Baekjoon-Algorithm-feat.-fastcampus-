{
  "nbformat": 4,
  "nbformat_minor": 0,
  "metadata": {
    "colab": {
      "provenance": []
    },
    "kernelspec": {
      "name": "python3",
      "display_name": "Python 3"
    },
    "language_info": {
      "name": "python"
    }
  },
  "cells": [
    {
      "cell_type": "markdown",
      "source": [
        "> 에라토스테네스의 체는 N보다 작거나 같은 모든 소수를 찾는 알고리즘이다."
      ],
      "metadata": {
        "id": "rEVL_PeI9sO3"
      }
    },
    {
      "cell_type": "code",
      "execution_count": null,
      "metadata": {
        "id": "bUEvDxXESGwM",
        "colab": {
          "base_uri": "https://localhost:8080/"
        },
        "outputId": "276f70e7-d973-4ec5-83a2-80afef4bd835"
      },
      "outputs": [
        {
          "output_type": "stream",
          "name": "stdout",
          "text": [
            "7 3\n",
            "6\n"
          ]
        }
      ],
      "source": [
        "# N보다 작거나 같은 모든 소수 찾기\n",
        "from collections import deque\n",
        "\n",
        "N, K = map(int, input().split())\n",
        "dellst = []\n",
        "numq = deque()\n",
        "numq.extend(list(range(2, N+1)))\n",
        "\n",
        "# 맨 처음에 지워지는 수는 소수이다!\n",
        "while len(numq) >= 0:\n",
        "  if len(dellst) >= K:\n",
        "    print(dellst[K-1])\n",
        "    break\n",
        "  popnum = numq.popleft()\n",
        "  dellst.append(popnum)\n",
        "  itr = N // popnum\n",
        "  for i in range(2, itr+1):\n",
        "    if i*popnum in numq:\n",
        "      numq.remove(i * popnum)\n",
        "      dellst.append(i * popnum)"
      ]
    },
    {
      "cell_type": "markdown",
      "source": [
        "-  while numq로 했는데, numq의 요소가 다 빠지고 입력값이 \"15 14\"와 같은 경우에는 print 코드 실행 이전에 break 되버리는 오류 발생\n",
        "- if len(dellst) == K로 했는데, 이전의 반복문 수행에서 딱 dellst의 길이가 k에서 마친다는 보장이 없는데 이 점을 놓쳤다."
      ],
      "metadata": {
        "id": "DEX3iJT9i65Q"
      }
    },
    {
      "cell_type": "markdown",
      "source": [
        "#### 모범답안\n",
        "```python\n",
        "N,K = map(int,input().split())\n",
        "\n",
        "arr = list(range(2,N+1))\n",
        "cnt = 0\n",
        "lst = []\n",
        "for i in arr:\n",
        "    for j in range(i,N+1,i):\n",
        "        if j not in lst:\n",
        "            lst.append(j)\n",
        "print(lst[K-1])\n",
        "```\n",
        "---\n",
        "```python\n",
        "N, K = map(int,input().split())\n",
        "L = [*range(N+1)]\n",
        "# unpacking\n",
        "# [*range(N+1)]는 range(N+1)의 모든 요소들을 개별적인 값으로 풀어서 리스트로 만든 것입니다. 이를 통해 L은 0부터 N까지의 숫자로 이루어진 리스트가 됩니다.\n",
        "R = [0] # 꼭 0을 안 넣고 [] 빈 리스트여도 괜찮\n",
        "for l in L:\n",
        "    if l > 1:\n",
        "        R += L[l::l]\n",
        "        # R += L[l::l]: 리스트 L에서 l 간격으로 잘린 부분을 리스트 R에 추가합니다.\n",
        "        # 이전에 처리된 값(중복되는 배수)은 0의 값으로 들어가게 될 것임\n",
        "        L[l::l] = (N//l)*[0]\n",
        "        # 리스트 L에서 l 간격으로 잘린 부분을 0으로 채웁니다.\n",
        "while 0 in R:\n",
        "  R.remove(0)\n",
        "# 리스트 R에서 0을 제거합니다.\n",
        "print(R[K-1])\n",
        "```\n",
        "\n",
        "> 예를 들어 N = 20이고 l = 2일 때를 가정해보겠습니다.\n",
        "- 초기 상태에서 리스트 L은 [0, 1, 2, 3, 4, 5, 6, 7, 8, 9, 10, 11, 12, 13, 14, 15, 16, 17, 18, 19, 20]입니다.\n",
        "l = 2이므로, L[l::l]는 2의 배수에 해당하는 위치를 선택합니다. 즉, L[2::2]는 [2, 4, 6, 8, 10, 12, 14, 16, 18, 20]입니다.\n",
        "- 그런 다음, (N//l)*[0]는 (20//2)*[0]으로 계산되어 [0, 0, 0, 0, 0, 0, 0, 0, 0, 0]이 됩니다.\n",
        "- 이제 L[l::l]에 해당하는 위치에 [0, 0, 0, 0, 0, 0, 0, 0, 0, 0]을 할당합니다. 결과적으로 L은 [0, 1, 2, 3, 0, 5, 0, 7, 0, 9, 0, 11, 0, 13, 0, 15, 0, 17, 0, 19, 0]이 됩니다.\n",
        "- 이런 식으로 알고리즘이 진행되며, 각 소수의 배수에 해당하는 위치에 0이 채워지게 됩니다. 이후 0을 제거하여 소수만 남게 됩니다."
      ],
      "metadata": {
        "id": "N7mDs9yBk4XV"
      }
    },
    {
      "cell_type": "markdown",
      "source": [
        "### **discard() : Set에서 제거하려는 원소가 없어도 error가 발생하지 않기 위해**\n",
        "\n",
        "> discard 메서드는 특정 값을 list에서 제거하려고 시도하지만, 해당 값이 list 안에 없으면 아무런 동작도 수행하지 않습니다. 오류를 발생시키지 않기 때문에 값이 deque 안에 존재하지 않아도 코드가 계속 진행됩니다.\n",
        "\n",
        "```python\n",
        "sett = {1, 2, 3, 4, 5}\n",
        "value_to_remove = 6\n",
        "\n",
        "# 해당 값이 deque 안에 있다면 제거, 없다면 무시\n",
        "sett.discard(value_to_remove)\n",
        "print(sett)\n",
        "```\n",
        "\n"
      ],
      "metadata": {
        "id": "h7OhXufidMb6"
      }
    },
    {
      "cell_type": "markdown",
      "source": [
        "> **deque 사용법**\n",
        "\n",
        "- 두 방법은 기본적으로 같은 결과를 얻게 된다. 그러나, 세부적인 차이가 존재한다.\n",
        "\n",
        "1. **리스트를 사용하여 초기화**\n",
        "\n",
        "```python\n",
        "# deque를 만들면서 초기 값으로 리스트를 받아들입니다.\n",
        "dq = deque([3])\n",
        "```\n",
        "\n",
        "2. 메소드를 사용하여 추가\n",
        "\n",
        "```python\n",
        "# 빈 deque를 만들고 나중에 값을 추가합니다.\n",
        "dq = deque()\n",
        "dq.append(3)\n",
        "```\n",
        "- 첫 번째 방법은 초기 값이 주어진 경우 간편하게 사용할 수 있다.\n",
        "- 두 번째 방법은 나중에 동적으로 값을 추가해야 할 때 유용하다.\n",
        "\n",
        "---\n",
        "\n",
        "### **extend : deque 뒤(오른쪽)에 iterable 객체를 순환하며 값들을 차례로 추가**\n",
        "\n",
        "```python\n",
        "dq.extend([7, 8, 9])\n",
        "dq\n",
        ">>> deque([7,8,9])\n",
        "```\n",
        "\n",
        "> extendleft() : deque 앞(왼쪽)에 iterable 객체를 순환하며 값들을 차례로 추가\n",
        "\n",
        "- 주의! 객체의 마지막 값부터 deque에 추가된다.\n",
        "\n",
        "```python\n",
        "dq.extendleft([2, 1, 0])\n",
        "print(dq)  \n",
        "# print결과 : deque([0, 1, 2, 7, 8, 9])\n",
        "```\n",
        "---\n",
        "> 삭제하려는 항목의 인덱스를 알고 있다면 del을 사용하고, 값 자체를 기준으로 삭제해야 할 경우에는 remove를 사용합니다.\n",
        "\n",
        "- **remove()** : deque 안의 특정 값 삭제\n",
        "```python\n",
        "dq = deque([1, 2, 3, 4, 5])\n",
        "dq.remove(3)  # 값 3을 삭제\n",
        "```\n",
        "- remove 메소드는 값에 해당하는 첫 번째 항목을 삭제합니다.\n",
        "- 특정 값을 찾아서 삭제하게 되므로 인덱스를 명시하지 않습니다.\n",
        "\n",
        "---\n",
        "- **del**  : deque 안의 특정 값 삭제\n",
        "```python\n",
        "dq = deque([1, 2, 3, 4, 5])\n",
        "del dq[2]  # 인덱스 2에 해당하는 값 삭제\n",
        "```\n",
        "\n",
        "- del 키워드를 사용하면 해당 인덱스에 있는 값을 삭제합니다.\n",
        "- 인덱스를 직접 지정하여 삭제하게 되며, 해당하는 인덱스에 있는 값을 바로 삭제하는 것이 특징입니다\n",
        "---\n",
        "- **popleft()**\n",
        "- deque의 왼쪽 끝에서 요소를 제거하고 해당 요소를 반환\n",
        "```python\n",
        "from collections import deque\n",
        "\n",
        "dq = deque([1, 2, 3, 4, 5])\n",
        "\n",
        "removed_element = dq.popleft()\n",
        "\n",
        "print(removed_element)  # 출력: 1\n",
        "print(dq)  # 출력: deque([2, 3, 4, 5])\n",
        "```\n",
        "\n",
        "---\n",
        "- **rotate()**\n",
        "\n",
        "```python\n",
        "from collections import deque\n",
        "\n",
        "dq = deque([1, 2, 3, 4, 5])\n",
        "\n",
        "# 오른쪽으로 2번 회전\n",
        "dq.rotate(2)\n",
        "print(dq)  # 출력: deque([4, 5, 1, 2, 3])\n",
        "\n",
        "# 왼쪽으로 3번 회전\n",
        "dq.rotate(-3)\n",
        "print(dq)  # 출력: deque([2, 3, 4, 5, 1])\n",
        "\n",
        "```\n",
        "\n",
        "- deque의 요소들을 오른쪽으로 주어진 수만큼 회전시킨다.\n",
        "- 음수 값이 주어지면 왼쪽으로 회전시킨다.\n",
        "- 데이터의 순서를 유지하면서 한 요소가 끝으로 이동하거나 처음으로 이동하는 등의 연산을 효과적으로 수행 가능하다."
      ],
      "metadata": {
        "id": "mu37E3HYWfrs"
      }
    },
    {
      "cell_type": "markdown",
      "source": [
        "> a ~ b까지의 수로 구성된 list 생성하기\n",
        "\n",
        "\n",
        "```python\n",
        "#1\n",
        "my_list = list(range(2, 8))\n",
        "print(my_list)\n",
        "\n",
        "#2\n",
        "import numpy as np\n",
        "my_np_array = np.arange(2, 8)\n",
        "print(my_np_array.tolist())\n",
        "```\n",
        "\n"
      ],
      "metadata": {
        "id": "siohCPGd8-oW"
      }
    }
  ]
}