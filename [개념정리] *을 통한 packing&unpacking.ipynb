{
  "nbformat": 4,
  "nbformat_minor": 0,
  "metadata": {
    "colab": {
      "provenance": []
    },
    "kernelspec": {
      "name": "python3",
      "display_name": "Python 3"
    },
    "language_info": {
      "name": "python"
    }
  },
  "cells": [
    {
      "cell_type": "markdown",
      "source": [
        "> **기본 unpacking**\n",
        "- list, tuple, strin, dictionary 등 모든 iterable한 data type들은 다 가능\n",
        "\n",
        "- 그러나, set은 순서가 없는 data type으로, unpacking을 해도 순서가 뒤죽박죽으로 값이 할당되기에 잘 사용하지 않는다.\n",
        "\n",
        "- [packing, unpacking](https://wikidocs.net/22801)\n"
      ],
      "metadata": {
        "id": "PnTblMajQD-H"
      }
    },
    {
      "cell_type": "code",
      "source": [
        "a,b,c = 'xyz'\n",
        "print(a, b, c, sep = ' ')\n",
        "\n",
        "# Dictionary의 unpacking\n",
        "\n",
        "# dictionary는 unpacking 하면 key값만 나온다.\n",
        "a,b,c = {'d' : 1,'e': 2, 'f' : 3}\n",
        "print(a, b, c, sep = ' ')\n",
        "\n",
        "# dictionary 뒤에 .values()\n",
        "a,b,c = {'d' : 1,'e': 2, 'f' : 3}.values()\n",
        "print(a, b, c, sep = ' ')\n",
        "\n",
        "# dictionary 뒤에 .items()\n",
        "a,b,c = {'d' : 1,'e': 2, 'f' : 3}.items()\n",
        "print(a, b, c, sep = ' ')\n",
        "\n",
        "# dictionary의 override\n",
        "# dictionary에는 key가 1개만 올 수 있기에, 순서상 뒤에 정의된 a = 5가 이전 값을 override한다\n",
        "d1 = {'a' : 1, 'b' : 2}\n",
        "d2 = {'a' : 5, 'c' : 6}\n",
        "d = {**d1, **d2}\n",
        "print(d)"
      ],
      "metadata": {
        "colab": {
          "base_uri": "https://localhost:8080/"
        },
        "id": "U6xPM6h0QTTS",
        "outputId": "c4d5d218-55af-462d-cd7e-bbbd58ea1a06"
      },
      "execution_count": null,
      "outputs": [
        {
          "output_type": "stream",
          "name": "stdout",
          "text": [
            "x y z\n",
            "d e f\n",
            "1 2 3\n",
            "('d', 1) ('e', 2) ('f', 3)\n",
            "{'a': 5, 'b': 2, 'c': 6}\n"
          ]
        }
      ]
    },
    {
      "cell_type": "markdown",
      "source": [
        "### **nested unpacking**\n",
        "- 겹겹이 쌓여있는 list를 unpacking하는 방법"
      ],
      "metadata": {
        "id": "HStN0bBOViX7"
      }
    },
    {
      "cell_type": "code",
      "source": [
        "# error : 중첩 list를 고려하지 않고 변수를 대입해주면 오류가 난다.\n",
        "p = [1,2,[3,4]]\n",
        "a,b,c,d = p"
      ],
      "metadata": {
        "colab": {
          "base_uri": "https://localhost:8080/",
          "height": 220
        },
        "id": "yLPDydrnVrVz",
        "outputId": "aa003604-3c55-4c49-8561-2d6425c3358d"
      },
      "execution_count": null,
      "outputs": [
        {
          "output_type": "error",
          "ename": "ValueError",
          "evalue": "not enough values to unpack (expected 4, got 3)",
          "traceback": [
            "\u001b[0;31m---------------------------------------------------------------------------\u001b[0m",
            "\u001b[0;31mValueError\u001b[0m                                Traceback (most recent call last)",
            "\u001b[0;32m<ipython-input-19-ae21f6c706ed>\u001b[0m in \u001b[0;36m<cell line: 3>\u001b[0;34m()\u001b[0m\n\u001b[1;32m      1\u001b[0m \u001b[0;31m# error\u001b[0m\u001b[0;34m\u001b[0m\u001b[0;34m\u001b[0m\u001b[0m\n\u001b[1;32m      2\u001b[0m \u001b[0mp\u001b[0m \u001b[0;34m=\u001b[0m \u001b[0;34m[\u001b[0m\u001b[0;36m1\u001b[0m\u001b[0;34m,\u001b[0m\u001b[0;36m2\u001b[0m\u001b[0;34m,\u001b[0m\u001b[0;34m[\u001b[0m\u001b[0;36m3\u001b[0m\u001b[0;34m,\u001b[0m\u001b[0;36m4\u001b[0m\u001b[0;34m]\u001b[0m\u001b[0;34m]\u001b[0m\u001b[0;34m\u001b[0m\u001b[0;34m\u001b[0m\u001b[0m\n\u001b[0;32m----> 3\u001b[0;31m \u001b[0ma\u001b[0m\u001b[0;34m,\u001b[0m\u001b[0mb\u001b[0m\u001b[0;34m,\u001b[0m\u001b[0mc\u001b[0m\u001b[0;34m,\u001b[0m\u001b[0md\u001b[0m \u001b[0;34m=\u001b[0m \u001b[0mp\u001b[0m\u001b[0;34m\u001b[0m\u001b[0;34m\u001b[0m\u001b[0m\n\u001b[0m",
            "\u001b[0;31mValueError\u001b[0m: not enough values to unpack (expected 4, got 3)"
          ]
        }
      ]
    },
    {
      "cell_type": "code",
      "source": [
        "# correct code\n",
        "p = [1,2,[3,4]]\n",
        "a, b,(c,d) = p\n",
        "print(a,b,c,d)"
      ],
      "metadata": {
        "colab": {
          "base_uri": "https://localhost:8080/"
        },
        "id": "T5tWGKFOV4Jq",
        "outputId": "bb6e269d-681a-459d-e194-6e1f62fac536"
      },
      "execution_count": null,
      "outputs": [
        {
          "output_type": "stream",
          "name": "stdout",
          "text": [
            "1 2 3 4\n"
          ]
        }
      ]
    },
    {
      "cell_type": "markdown",
      "source": [
        "### **위치 인수 (Positional arguments)**\n",
        "- 위치인수는 인자순서에 따라 파라미터에게 값이 전달된다. tuple, list의 경우 asterisk(\\*, \\*\\*) 를 통해 언팩킹 하여 사용할 수 있다.\n",
        "\n",
        "- \\*의 기능 : **\"\\*가 없는 변수가 값을 할당받고 할당받지 못한 나머지 값들을 모아서 리스트로 만드는 기능\"**\n",
        "\n",
        "> asterisk(**) 가 2개인 이유\n",
        "- \\* 하나당 1번 압축해제를 생각하면 쉽다.\n",
        "- \\* 는 튜플과 리스트, 즉 인덱스 하나만 압축이 풀린다.\n",
        "- \\* 딕셔너리에서는 키만 언패킹 되어버리고, 값은 묶인 상태, 쓸 수가 없다.\n",
        "- \\*\\* 는 키와 값 2가지를 언패킹 한다 생각하면 된다.\n",
        "\n",
        "> ## **주의 사항**\n",
        "- 변수 부분에는 \\*를 한번만 사용 가능하다.\n",
        "![image.png](data:image/png;base64,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)\n"
      ],
      "metadata": {
        "id": "kc2Ph1QlOkYb"
      }
    },
    {
      "cell_type": "markdown",
      "source": [
        "> ### **Container 자체를 unpacking하는 \\***"
      ],
      "metadata": {
        "id": "T7ICO2ycSl_j"
      }
    },
    {
      "cell_type": "code",
      "source": [
        "# 앞에서는 리스트값을 각 변수에 할당했는데, 값이 변수보다 많을 경우에 그렇게 사용한다.\n",
        "# 그러나, 리스트 자체를 분해할 수도 있다\n",
        "l1 = [1,2,3]\n",
        "print(*l1)"
      ],
      "metadata": {
        "colab": {
          "base_uri": "https://localhost:8080/"
        },
        "id": "-LjEcd9ySjCM",
        "outputId": "ccf2d9f3-5600-40ed-ccc4-ab69d9b7a23d"
      },
      "execution_count": null,
      "outputs": [
        {
          "output_type": "stream",
          "name": "stdout",
          "text": [
            "1 2 3\n"
          ]
        }
      ]
    },
    {
      "cell_type": "code",
      "source": [
        "# unpacking을 통해 우리가 원하는 컨테이너에 넣어서 원소끼리 합칠 수도 있다.\n",
        "l1 = [1,2,3]\n",
        "l2 = [4,5,6]\n",
        "l3 = [*l1, *l2]\n",
        "print(l3)\n",
        "# *이 없었다면, [[1,2,3],[4,5,6]]으로 list로 뭉쳐진 상태로 결합될 것이다."
      ],
      "metadata": {
        "colab": {
          "base_uri": "https://localhost:8080/"
        },
        "id": "s3SQeXSQS1gW",
        "outputId": "dea5277e-6e00-4f21-9b50-fe622a7d2767"
      },
      "execution_count": null,
      "outputs": [
        {
          "output_type": "stream",
          "name": "stdout",
          "text": [
            "[1, 2, 3, 4, 5, 6]\n"
          ]
        }
      ]
    },
    {
      "cell_type": "markdown",
      "source": [
        "> ### **중요!**\n",
        "- iterable 자체에 \\*을 넣는 경우는 iterable객체 내부의 원소들을 분리시켜주지만, \\*자체로는 사용할 수 없다. tuple이든 list든 어떤 것으로 감싸주어야만 사용 가능하다."
      ],
      "metadata": {
        "id": "EQ1XxD3mTUOI"
      }
    },
    {
      "cell_type": "code",
      "source": [
        "l4 = [1,2,3]\n",
        "l5 = *l4\n",
        "print(l5)"
      ],
      "metadata": {
        "colab": {
          "base_uri": "https://localhost:8080/",
          "height": 147
        },
        "id": "jL1RFV-VTpsj",
        "outputId": "7996b5fc-b895-4130-d155-0e7f76eb43f0"
      },
      "execution_count": null,
      "outputs": [
        {
          "output_type": "error",
          "ename": "SyntaxError",
          "evalue": "can't use starred expression here (<ipython-input-15-91f922d75939>, line 2)",
          "traceback": [
            "\u001b[0;36m  File \u001b[0;32m\"<ipython-input-15-91f922d75939>\"\u001b[0;36m, line \u001b[0;32m2\u001b[0m\n\u001b[0;31m    l5 = *l4\u001b[0m\n\u001b[0m         ^\u001b[0m\n\u001b[0;31mSyntaxError\u001b[0m\u001b[0;31m:\u001b[0m can't use starred expression here\n"
          ]
        }
      ]
    },
    {
      "cell_type": "code",
      "source": [
        "# 올바른 코드 => tuple로 감싸준다\n",
        "l6 = {1,2,3}\n",
        "l7 = *l6,\n",
        "print(l7)\n",
        "# ()로 감싸도 tuple이 되지만, 괄호는 튜플을 나타내는 보조적인 수단\n",
        "# tuple을 정의하는 진짜 표현은 \",\" 이다."
      ],
      "metadata": {
        "colab": {
          "base_uri": "https://localhost:8080/"
        },
        "id": "_rE4_OwAT7x6",
        "outputId": "f3f4af54-abdb-494b-e05b-878895bfd3ac"
      },
      "execution_count": null,
      "outputs": [
        {
          "output_type": "stream",
          "name": "stdout",
          "text": [
            "(1, 2, 3)\n"
          ]
        }
      ]
    },
    {
      "cell_type": "markdown",
      "source": [
        "> 파이썬에서 *을 사용한 unpacking은 여러 요소를 풀어 해체하거나 전달하는 데 사용됩니다. 이것은 함수 호출, 튜플 언패킹, 리스트 언패킹 등 다양한 상황에서 활용됩니다.\n",
        "\n",
        "- packing은 여러개의 객체를 하나의 객체로 합쳐주는 것\n",
        "- unpacking은 여러개의 객체를 포함하고 있는 하나의 객체를 풀어주는 것"
      ],
      "metadata": {
        "id": "0qgqna6j8JFe"
      }
    },
    {
      "cell_type": "markdown",
      "source": [
        "### **\\*을 통한 위치 인자 packing**\n",
        "- 함수가 받을 인자의 갯수를 유연하게 지정\n",
        "- \\*s는 나머지 모든 값을 리스트에 담는 역할 (나머지 모든 값을 리스트로 가져오는 역할) => packing\n",
        "- 여러 개의 값을 가진 리스트, 튜플 등에서 필요한 값만 추출하고자 할 때 유용\n",
        "\n",
        "```python\n",
        "def func(*args):\n",
        "      print(args)\n",
        "      print(type(args))\n",
        "\n",
        "func(1, 2, 3, 4, 5, 6, 'a', 'b')\n",
        "# result\n",
        "(1, 2, 3, 4, 5, 6, 'a', 'b')\n",
        "<class 'tuple'>\n",
        "```\n",
        "\n"
      ],
      "metadata": {
        "id": "mnuhgULAFebH"
      }
    },
    {
      "cell_type": "code",
      "source": [
        "# packing의 활용\n",
        "\n",
        "def sum_all(*numbers):\n",
        "      result = 0\n",
        "      for number in numbers:\n",
        "           result += number\n",
        "      return result\n",
        "\n",
        "print(sum_all(1, 2, 3)) # 6\n",
        "print(sum_all(1, 2, 3, 4, 5, 6)) # 21"
      ],
      "metadata": {
        "colab": {
          "base_uri": "https://localhost:8080/"
        },
        "id": "rmGP_1uVG7gP",
        "outputId": "8ad47e7c-def1-4c65-8ea1-eed4b6a18eea"
      },
      "execution_count": null,
      "outputs": [
        {
          "output_type": "stream",
          "name": "stdout",
          "text": [
            "6\n",
            "21\n"
          ]
        }
      ]
    },
    {
      "cell_type": "code",
      "source": [
        "# 키워드 인자에 패킹은 **kwargs을 통해 작성 가능\n",
        "def kwpacking(**kwargs):\n",
        "     print(kwargs)\n",
        "     print(type(kwargs))\n",
        "\n",
        "kwpacking(a=1, b=2, c=3)"
      ],
      "metadata": {
        "colab": {
          "base_uri": "https://localhost:8080/"
        },
        "id": "Z9ujxfEHHH2c",
        "outputId": "e2026029-a52f-4d7b-f1ef-7237b2574b18"
      },
      "execution_count": null,
      "outputs": [
        {
          "output_type": "stream",
          "name": "stdout",
          "text": [
            "{'a': 1, 'b': 2, 'c': 3}\n",
            "<class 'dict'>\n"
          ]
        }
      ]
    },
    {
      "cell_type": "markdown",
      "source": [
        "> 키워드 인자는 패킹한 인자들을 키워드와 인자 쌍으로 이뤄진 딕셔너리로 관리합니다."
      ],
      "metadata": {
        "id": "bkmX6IQJHXRm"
      }
    },
    {
      "cell_type": "code",
      "source": [
        "# 키워드 인자 활용\n",
        "def print_family_name(father, mother, **sibling):\n",
        "      print(\"아버지 :\", father)\n",
        "      print(\"어머니 :\", mother)\n",
        "      if sibling:\n",
        "           print(\"호적 메이트..\")\n",
        "           for title, name in sibling.items():\n",
        "                 print('{} : {}'.format(title, name))\n",
        "\n",
        "print_family_name(\"홍길동\", '심사임당', 누나='김태희', 여동생='윤아')"
      ],
      "metadata": {
        "colab": {
          "base_uri": "https://localhost:8080/"
        },
        "id": "MHD3XLerHi6F",
        "outputId": "927cb274-2aa2-41f4-9042-e39e9bde4d1f"
      },
      "execution_count": null,
      "outputs": [
        {
          "output_type": "stream",
          "name": "stdout",
          "text": [
            "아버지 : 홍길동\n",
            "어머니 : 심사임당\n",
            "호적 메이트..\n",
            "누나 : 김태희\n",
            "여동생 : 윤아\n"
          ]
        }
      ]
    },
    {
      "cell_type": "markdown",
      "source": [
        "> 위치 인자와 키워드 인자 동시 packing"
      ],
      "metadata": {
        "id": "TwMHUCazHnFc"
      }
    },
    {
      "cell_type": "code",
      "source": [
        "def print_family_name(*parents, **sibling):\n",
        "      print(\"아버지 :\", parents[0])\n",
        "      print(\"어머니 :\", parents[1])\n",
        "      if sibling:\n",
        "           print(\"호적 메이트..\")\n",
        "           for title, name in sibling.items():\n",
        "                 print('{} : {}'.format(title, name))\n",
        "\n",
        "print_family_name(\"홍길동\", '심사임당', 누나='김태희', 여동생='윤아')"
      ],
      "metadata": {
        "colab": {
          "base_uri": "https://localhost:8080/"
        },
        "id": "ZApls5SNHrCU",
        "outputId": "cdcf0f33-2122-4192-df97-bb81094cda35"
      },
      "execution_count": null,
      "outputs": [
        {
          "output_type": "stream",
          "name": "stdout",
          "text": [
            "아버지 : 홍길동\n",
            "어머니 : 심사임당\n",
            "호적 메이트..\n",
            "누나 : 김태희\n",
            "여동생 : 윤아\n"
          ]
        }
      ]
    },
    {
      "cell_type": "markdown",
      "source": [
        "## **\\*을 통한 unpacking**\n",
        "\n",
        "\n",
        ">- **함수에서 unpacking을 할때는, 매개변수에 *을 붙이는게 아니라 인자 앞에 *을 붙여서 사용합니다.**\n",
        "- 매개변수(Parameter): **함수가 호출될 때 전달되는 값(argument)을 받아들이는 변수**로, 함수 정의 시에 사용되는 변수이다.\n",
        "- 인자(Argument): 함수를 호출할 때 전달되는 값으로, **함수를 호출할 때 매개변수에 전달되는 값**입니다.\n",
        "- unpacking은 함수를 호출할때 인자를 해체하는 개념이기 때문에, 해채된 결과가 함수의 매개변수의 갯수와 다르다면 에러가 발생합니다.\n",
        "\n",
        "```python\n",
        "# unpacking 예시\n",
        "def sum(a, b, c):\n",
        "    return a + b + c\n",
        "\n",
        "numbers = [1, 2, 3]\n",
        "sum(numbers) # error\n",
        "\n",
        "print(sum(*numbers)) # 출력 : 6\n",
        "# [1, 2, 3]을 인자로 보낼때, *을 붙이면 unpacking이 발생\n",
        "\n",
        "sum(*[1, 2, 3, 4])\n",
        "# 매개변수 개수와 다르기에 error 발생\n",
        "\n",
        "```\n",
        ">- unpacking은 아래와 같은 순서로 변경되어 실행됩니다.\n",
        "1. sum(*numbers)\n",
        "2. sum(*[1, 2, 3])\n",
        "3. sum(1, 2, 3)\n",
        "\n",
        "\n",
        "```python\n",
        "# unpacking 예시\n",
        "def example_unpacking_function(param1, param2, *args):\n",
        "    print(\"param1:\", param1)\n",
        "    print(\"param2:\", param2)\n",
        "    print(\"args:\", args)\n",
        "\n",
        "# 인자 언패킹을 통한 함수 호출\n",
        "argument_list = [1, 2, 3, 4, 5]\n",
        "example_unpacking_function(*argument_list)\n",
        "\n",
        "```\n",
        "\n",
        "```python\n",
        "# 위치인자를 unpacking할때는 위에 예에서는 list타입이였지만, Container객체라면 다 가능하다\n",
        "sum(*'abc') # 'abc'\n",
        "sum(*(4, 5, 6)) # 15\n",
        "sum(*{'가', '나', '다'}) # '나다가'\n",
        "sum(*{'치킨': 3, '피자': 12, '음료수': 10}) # '치킨피자음료수'\n",
        "```\n",
        "\n",
        "---\n",
        "\n",
        "< \\*의 개수에 따라 나머지 값들을 어떻게 처리할지가 결정된다>\n",
        "\n",
        "- \\*가 없는 경우\n",
        "\n",
        "```python\n",
        "a, b, c = [1, 2, 3]\n",
        "print(a, b, c)  # 결과: 1 2 3\n",
        "# 이 경우 모든 값이 각 변수에 할당됩니다.\n",
        "```\n",
        "\n",
        "- \\*가 하나인 경우\n",
        "\n",
        "```python\n",
        "a, *rest = [1, 2, 3, 4]\n",
        "print(a)      # 결과: 1\n",
        "print(rest)   # 결과: [2, 3, 4]\n",
        "# 여기서 *rest는 나머지 값들을 리스트로 가져옵니다.\n",
        "```\n",
        "\n",
        "\n",
        "- \\*가 여러 개인 경우\n",
        "\n",
        "```python\n",
        "a, *middle, b, c = [1, 2, 3, 4, 5]\n",
        "print(a)      # 결과: 1\n",
        "print(middle) # 결과: [2, 3]\n",
        "print(b)      # 결과: 4\n",
        "print(c)      # 결과: 5\n",
        "# 여기서 *middle은 나머지 값을 리스트로 가져오며, 그 뒤의 변수 b와 c에는 각각 남은 값들이 할당됩니다.\n",
        "```\n",
        "\n",
        "\n",
        "\n",
        "```python\n",
        "*a, b, c = [1, 2, 3, 4, 5]\n",
        "print(a)      # 결과: [1, 2, 3]\n",
        "print(b)      # 결과: 4\n",
        "print(c)      # 결과: 5\n",
        "```\n",
        "---\n",
        "- 동일한 방식으로 키워드인자로 unpacking할 수 있습니다. unpacking하기 위해선 인자가 key와 인자로 구성되어 있는 mapping타입, 즉 dict가 필요합니다.\n",
        "\n",
        "```python\n",
        "def cal(first, op, second):\n",
        "    if op == '+':\n",
        "        return first + second\n",
        "    if op == '/':\n",
        "        return first / second\n",
        "    if op == '-':\n",
        "        return first - second\n",
        "    if op == '*':\n",
        "        return first * second\n",
        "\n",
        "prob = {\n",
        "  'first': 12,\n",
        "  'second': 34,\n",
        "  'op': '*'\n",
        "}\n",
        "\n",
        "cal(**prob) # 결과 : 408\n",
        "# 위치인자의 unpacking처럼 unpacking되는 인자는 매개변수의 키워드 매개변수와 일치해야합니다.\n",
        "```\n",
        "> - 위 예제에 키워드 인자의 unpacking은 다음과 같이 작동합니다.\n",
        "1. cal(**prob)\n",
        "2. cal(prob = {\n",
        "  'first': 12,\n",
        "  'second': 34,\n",
        "  'op': '*'\n",
        "})\n",
        "3. cal(first=12, second=34, op='*')"
      ],
      "metadata": {
        "id": "fcAb-TUewLCh"
      }
    },
    {
      "cell_type": "code",
      "source": [
        "# args에는 '안녕하세요', '파이썬 꿀잼!'\n",
        "# kwargs에는 sep='~~ '\n",
        "def start(func, *args, **kwargs):\n",
        "    print(\"함수를 시작합니다.\")\n",
        "    return func(*args, **kwargs)\n",
        "start(print, '안녕하세요', '파이썬 꿀잼!', sep='~~ ')"
      ],
      "metadata": {
        "id": "0lcDGwgdEf3V"
      },
      "execution_count": null,
      "outputs": []
    },
    {
      "cell_type": "markdown",
      "source": [
        "- '안녕하세요'와 '파이썬 꿀잼!'는 위치 인자로 전달되어 args 튜플에 수집됩니다.\n",
        "- sep='~~ '는 키워드 인자로 전달되어 kwargs 사전에 수집됩니다.\n",
        "- 그래서 func(*args, **kwargs)가 start 함수 내에서 실행되면, 이는 print('안녕하세요', '파이썬 꿀잼!', sep='\\~~ ')를 호출하는 것과 동일합니다. 이로써 두 문자열이 '\\~~ '로 구분되어 출력됩니다.\n",
        "\n",
        ">  \\*\\*kwargs는 키워드 인자를 딕셔너리 형태로 받는 것이 일반적이지만, 변수명과 값의 형태로 전달되는 것도 가능합니다. 예를 들어, sep='~~'과 같이 키워드 인자를 변수명과 값의 형태로 전달하는 것이 흔히 사용됩니다. 이 경우에는 \\*\\*kwargs가 이를 딕셔너리로 묶어서 받아들입니다.  **kwargs는 실제로 함수 내부에서 딕셔너리로 처리되지만, 호출할 때는 키워드 인자들이 변수명과 값의 형태로 전달될 수 있습니다."
      ],
      "metadata": {
        "id": "k9aITXpsEhYV"
      }
    },
    {
      "cell_type": "code",
      "source": [
        "def example_unpacking_function(param1, param2, *args):\n",
        "    print(\"param1:\", param1)\n",
        "    print(\"param2:\", param2)\n",
        "    print(\"args:\", args)\n",
        "\n",
        "# 인자 언패킹을 통한 함수 호출\n",
        "argument_list = [1, 2, 3, 4, 5]\n",
        "example_unpacking_function(*argument_list)\n",
        "# *을 사용하여 인자를 언패킹하면,\n",
        "# 리스트나 튜플 등의 iterable에서 개별 값들을 함수에 전달할 수 있습니다."
      ],
      "metadata": {
        "colab": {
          "base_uri": "https://localhost:8080/"
        },
        "id": "vBq-mtJAMKnJ",
        "outputId": "b8716e15-0953-42d8-c05b-4dfd127e79bd"
      },
      "execution_count": null,
      "outputs": [
        {
          "output_type": "stream",
          "name": "stdout",
          "text": [
            "param1: 1\n",
            "param2: 2\n",
            "args: (3, 4, 5)\n"
          ]
        }
      ]
    },
    {
      "cell_type": "code",
      "source": [
        "# 함수 호출에서의 사용\n",
        "# 함수 정의 시 *args를 사용하여 가변 개수의 인자를 받을 수 있습니다.\n",
        "# 호출할 때는 여러 값을 *으로 언패킹하여 전달할 수 있습니다.\n",
        "def example_function(*args):\n",
        "    for arg in args:\n",
        "        print(arg)\n",
        "\n",
        "example_function(1, 2, 3)"
      ],
      "metadata": {
        "colab": {
          "base_uri": "https://localhost:8080/"
        },
        "id": "bDNoEfYu8RaO",
        "outputId": "4cf03bd6-5b2e-4f47-fe69-10a47d6c4246"
      },
      "execution_count": null,
      "outputs": [
        {
          "output_type": "stream",
          "name": "stdout",
          "text": [
            "1\n",
            "2\n",
            "3\n"
          ]
        }
      ]
    },
    {
      "cell_type": "code",
      "source": [
        "# 튜플 언패킹\n",
        "tuple1 = (1, 2, 3)\n",
        "tuple2 = (4, 5, 6)\n",
        "\n",
        "combined_tuple = (*tuple1, *tuple2)\n",
        "print(combined_tuple)"
      ],
      "metadata": {
        "colab": {
          "base_uri": "https://localhost:8080/"
        },
        "id": "Dw33q8MgEmip",
        "outputId": "31d3c6b0-529b-4b30-c8fd-69e4778eb1df"
      },
      "execution_count": null,
      "outputs": [
        {
          "output_type": "stream",
          "name": "stdout",
          "text": [
            "(1, 2, 3, 4, 5, 6)\n"
          ]
        }
      ]
    },
    {
      "cell_type": "code",
      "source": [
        "# 딕셔너리 언패킹\n",
        "dict1 = {'a': 1, 'b': 2}\n",
        "dict2 = {'c': 3, 'd': 4}\n",
        "\n",
        "combined_dict = {**dict1, **dict2}\n",
        "print(combined_dict)"
      ],
      "metadata": {
        "colab": {
          "base_uri": "https://localhost:8080/"
        },
        "id": "Lqb0kJvME9xH",
        "outputId": "f7a7bee1-0d80-4c2b-9659-2c272ba58f19"
      },
      "execution_count": null,
      "outputs": [
        {
          "output_type": "stream",
          "name": "stdout",
          "text": [
            "{'a': 1, 'b': 2, 'c': 3, 'd': 4}\n"
          ]
        }
      ]
    }
  ]
}
