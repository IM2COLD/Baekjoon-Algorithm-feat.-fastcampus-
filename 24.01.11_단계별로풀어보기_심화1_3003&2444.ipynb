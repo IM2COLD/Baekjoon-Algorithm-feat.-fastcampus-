{
  "nbformat": 4,
  "nbformat_minor": 0,
  "metadata": {
    "colab": {
      "provenance": []
    },
    "kernelspec": {
      "name": "python3",
      "display_name": "Python 3"
    },
    "language_info": {
      "name": "python"
    }
  },
  "cells": [
    {
      "cell_type": "code",
      "execution_count": null,
      "metadata": {
        "colab": {
          "base_uri": "https://localhost:8080/"
        },
        "id": "10MSseWo-mCD",
        "outputId": "f460abd2-1d85-482a-c73d-1908779ca95f"
      },
      "outputs": [
        {
          "output_type": "stream",
          "name": "stdout",
          "text": [
            "0 1 2 2 2 7\n",
            "1 0 0 0 0 1\n"
          ]
        }
      ],
      "source": [
        "# 3003\n",
        "answer = [1, 1, 2, 2, 2, 8]\n",
        "num = list(map(int, input().split()))\n",
        "k = [ai - bi for ai, bi in zip(answer, num)]\n",
        "print(' '.join(list(map(str, k))))"
      ]
    },
    {
      "cell_type": "code",
      "source": [
        "# 2444\n",
        "N = int(input())\n",
        "for i in range (2*N - 1):\n",
        "  numlst = list(range(1,2*N-1, 2))\n",
        "  if i < N:\n",
        "    numlst = list(range(1,2*N, 2))\n",
        "    inp = '*' * int(numlst[i])\n",
        "    print(' ' * (N-1-i) + inp)\n",
        "  else:\n",
        "    numlst = sorted(list(range(1, 2*N-2, 2)),reverse = True)\n",
        "    inp = '*' * int(numlst[i - N])\n",
        "    print(' '*(i-N+1) + inp)"
      ],
      "metadata": {
        "colab": {
          "base_uri": "https://localhost:8080/"
        },
        "id": "Sl72Jaexz_JK",
        "outputId": "b8004858-0be1-496a-e267-01ee41cee451"
      },
      "execution_count": 21,
      "outputs": [
        {
          "output_type": "stream",
          "name": "stdout",
          "text": [
            "5\n",
            "    *\n",
            "   ***\n",
            "  *****\n",
            " *******\n",
            "*********\n",
            " *******\n",
            "  *****\n",
            "   ***\n",
            "    *\n"
          ]
        }
      ]
    },
    {
      "cell_type": "markdown",
      "source": [
        "### shor code\n",
        "- 절댓값을 활용해서 풀기\n",
        "\n",
        "```python\n",
        "n=int(input())\n",
        "for i in range(-n+1,n):\n",
        "    print(' '*abs(i)+'*'*((n-abs(i))*2-1))\n",
        "```\n",
        "\n",
        "\n"
      ],
      "metadata": {
        "id": "UZpbtNWx7mDL"
      }
    },
    {
      "cell_type": "markdown",
      "source": [
        "### 오류 발생 원인\n",
        "\n",
        "- f-string에서 ^는 중앙 정렬을 수행하는 포맷 코드입니다. 그러나 ^int(2*N-1)는 f-string 내에서 올바른 형태가 아닙니다. 올바른 형태는 ^ 뒤에 정수값만 있어야 합니다.\n",
        "\n",
        "```python\n",
        "# 오류 코드\n",
        "print(f'{inp:^int(2*N-1)}')\n",
        "# 수정\n",
        "print(f'{inp:^{2*N-1}}')\n",
        "```\n",
        "\n",
        "+ 출력에 불필요한 공백이 없어야 합니다\n",
        "\n",
        "\n",
        "```\n",
        "# 정답\n",
        "# 점은 공백\n",
        "....*\n",
        "...***\n",
        "..*****\n",
        ".*******\n",
        "*********\n",
        ".*******\n",
        "..*****\n",
        "...***\n",
        "....*\n",
        "    \n",
        "//출력\n",
        "....*....\n",
        "...***...\n",
        "..*****..\n",
        ".*******.\n",
        "*********\n",
        ".*******.\n",
        "..*****..\n",
        "...***...\n",
        "....*....\n",
        "```\n",
        "\n"
      ],
      "metadata": {
        "id": "YPB54M1W3wOv"
      }
    },
    {
      "cell_type": "markdown",
      "source": [
        "### format 사용법\n",
        "\n",
        "```python\n",
        "# 왼쪽 정렬\n",
        "a = '{0:<10}'.format('hi')\n",
        "print(a)\n",
        ">>> hi\n",
        "# 오른쪽 정렬\n",
        "a = '{0:>10}'.format('hi')\n",
        "print(a)\n",
        ">>>         hi\n",
        "# 가운데 정렬\n",
        "a = '{0:^10}'.format('hi')\n",
        "print(a)\n",
        ">>>     hi\n",
        "# 다른문자로 공백 채우기\n",
        "# 가운데 정렬하고 공백부분 = 문자로 채우기\n",
        "a = '{0:=^10}'.format('hi'\n",
        "print(a)\n",
        ">>> ====hi====\n",
        "# 소수점 표현\n",
        "# 0:5 전체길이\n",
        "# 2f 두자리까지만\n",
        "a = '{0:5.2f}'.format(3.112233)\n",
        "print(a)\n",
        ">>>  3.11\n",
        "```\n",
        "\n"
      ],
      "metadata": {
        "id": "6u6et80I5jou"
      }
    }
  ]
}