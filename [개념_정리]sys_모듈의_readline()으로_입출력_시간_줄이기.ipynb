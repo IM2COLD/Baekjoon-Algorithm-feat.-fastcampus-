{
  "nbformat": 4,
  "nbformat_minor": 0,
  "metadata": {
    "colab": {
      "provenance": []
    },
    "kernelspec": {
      "name": "python3",
      "display_name": "Python 3"
    },
    "language_info": {
      "name": "python"
    }
  },
  "cells": [
    {
      "cell_type": "markdown",
      "source": [
        "- #### **반복문으로 여러줄 입력받는 상황에서는 반드시 sys.stdin.readline()을 사용해야 시간초과가 발생하지 않습니다.**\n",
        "\n",
        "- 한 두줄 입력받는 문제들과 다르게, 반복문으로 여러줄을 입력 받아야 할 때는 input()으로 입력 받는다면 시간초과가 발생할 수 있습니다."
      ],
      "metadata": {
        "id": "MlsjRiTx4X3S"
      }
    },
    {
      "cell_type": "markdown",
      "source": [
        "> Python을 사용하고 있다면, **input 대신 sys.stdin.readline을 사용할 수 있다.**\n",
        "\n",
        "- 이때는 맨 끝의 개행문자(줄바꿈문자)까지 같이 입력받기 때문에 문자열을 저장하고 싶을 경우 **.rstrip()을 추가로 해 주는 것이 좋다.**\n",
        "\n",
        "---\n",
        "\n",
        "- rstrip : 문자열 자체를 변수에 저장하고 싶을 때 사용\n",
        "- 개행문자가 맨 끝에 들어와도 int 변환이나 split()을 그대로 할 수 있다.\n",
        "-  즉 int(sys.stdin.readline()), sys.stdin.readline().split() 이렇게 해도 아무 문제 없다.\n",
        "- 참고로 이름이 꽤 길기 때문에 input = sys.stdin.readline을 맨 처음에 작성하고 사용하는 것이 편리\n",
        "\n",
        "\n"
      ],
      "metadata": {
        "id": "ehkzljyB4o6y"
      }
    },
    {
      "cell_type": "markdown",
      "source": [
        "😨 그냥 a = sys.stdin.readline() 하면 안되나요?\n",
        "\n",
        "👉 sys.stdin.readline()은 한줄 단위로 입력받기 때문에, 개행문자가 같이 입력 받아집니다.\n",
        "만약 3을 입력했다면, 3\\n 이 저장되기 때문에, 개행문자를 제거해야 합니다.\n",
        "\n",
        "또한, 변수 타입이 문자열 형태(str)로 저장되기 때문에, 정수로 사용하기 위해서 형변환을 거쳐야 합니다."
      ],
      "metadata": {
        "id": "V_zCU3KyDZW4"
      }
    },
    {
      "cell_type": "markdown",
      "source": [
        "📌정해진 개수의 정수를 한줄에 입력받을 때\n",
        "\n",
        "\n",
        "```python\n",
        "import sys\n",
        "a,b,c = map(int,sys.stdin.readline().split())\n",
        "```\n",
        "- map()은 반복 가능한 객체(리스트 등)에 대해 각각의 요소들을 지정된 함수로 처리해주는 함수입니다.\n",
        "위와 같이 사용한다면 a,b,c에 대해 각각 int형으로 형변환을 할 수 있습니다."
      ],
      "metadata": {
        "id": "Edh-C-5WDeJw"
      }
    },
    {
      "cell_type": "markdown",
      "source": [
        "📌 임의의 개수의 정수를 한줄에 입력받아 리스트에 저장할 때\n",
        "\n",
        "\n",
        "```python\n",
        "import sys\n",
        "data = list(map(int,sys.stdin.readline().split()))\n",
        "```\n",
        "\n",
        "- split()은 문자열을 나눠주는 함수입니다.\n",
        "괄호 안에 특정 값을 넣어주면 그 값을 기준으로 문자열을 나누고, 아무 값도 넣어주지 않으면 공백(스페이스, 탭, 엔터 등)을 기준으로 나눕니다.\n",
        "\n",
        "- list()는 자료형을 리스트형으로 변환해주는 함수입니다.\n",
        "map()은 맵 객체를 만들기 때문에, 리스트형으로 바꿔주기 위해서 list()로 감싸주었습니다."
      ],
      "metadata": {
        "id": "tzH6zif-DnBu"
      }
    },
    {
      "cell_type": "markdown",
      "source": [
        "📌 임의의 개수의 정수를 n줄 입력받아 2차원 리스트에 저장할 때\n",
        "\n",
        "\n",
        "```python\n",
        "import sys\n",
        "data = []\n",
        "n = int(sys.stdin.readline())\n",
        "for i in range(n):\n",
        "    data.append(list(map(int,sys.stdin.readline().split())))\n",
        "```\n",
        "\n",
        "- 이렇게 한다면 각 요소의 길이가 동일한 2차원 리스트도 만들 수 있고, 각각 길이가 다른 2차원 리스트도 입력 받을 수 있습니다.\n",
        "\n",
        "> **example**\n",
        "\n",
        "```python\n",
        "# Example Input:\n",
        "# 3 : 입력될 개수 => 변수 n에 저장될 숫자\n",
        "# 1 2\n",
        "# 3 4\n",
        "# 5 6\n",
        "import sys\n",
        "data = []\n",
        "n = int(sys.stdin.readline())\n",
        "for i in range(n):\n",
        "    data.append(list(map(int, sys.stdin.readline().split())))\n",
        "print(data)\n",
        "# Output:\n",
        "# [[1, 2], [3, 4], [5, 6]]\n",
        "```\n",
        "\n",
        "```python\n",
        "# Example Input:\n",
        "# 2\n",
        "# 1 2\n",
        "# 3 4 5\n",
        "import sys\n",
        "data = []\n",
        "n = int(sys.stdin.readline())\n",
        "for i in range(n):\n",
        "    data.append(list(map(int, sys.stdin.readline().split())))\n",
        "print(data)\n",
        "# Output:\n",
        "# [[1, 2], [3, 4, 5]]\n",
        "```\n",
        "\n"
      ],
      "metadata": {
        "id": "9vsXvg3gDwYf"
      }
    },
    {
      "cell_type": "markdown",
      "source": [
        "📌 문자열 n줄을 입력받아 리스트에 저장할 때\n",
        "\n",
        "\n",
        "```python\n",
        "import sys\n",
        "n = int(sys.stdin.readline())\n",
        "data = [sys.stdin.readline().strip() for i in range(n)]\n",
        "```\n",
        "\n",
        "- strip()은 문자열 맨 앞과 맨 끝의 공백문자를 제거합니다."
      ],
      "metadata": {
        "id": "vwKAeo0xE9bd"
      }
    },
    {
      "cell_type": "markdown",
      "source": [
        "> ### **Colab에서는 왜 sys.stdin.readline()이 작동하지 않는 것일까?**"
      ],
      "metadata": {
        "id": "G8DXd5RFCjzV"
      }
    },
    {
      "cell_type": "markdown",
      "source": [
        "- 비대화형 환경에서의 사용 : 주피터 노트북이나 온라인 컴파일러와 같은 대화형 환경에서 이 코드를 실행하는 경우 sys.stdin.readline()이 예상대로 작동하지 않을 수 있습니다. 이 함수는 일반적으로 콘솔 기반 환경의 키보드인 표준 입력에서 읽도록 설계되었습니다.\n",
        "\n",
        "- 대화형 표준 입력이 없는 환경(예: 일부 온라인 플랫폼)에서 이 코드를 실행하는 경우 sys.stdin.readline()이 입력을 받지 못할 수 있으며, 변수에 입력이 저장되지 않고 루프가 종료됩니다.\n",
        "\n",
        "- **Google Colab에서 sys.stdin.readline() 메서드가 예상대로 작동하지 않을 수 있습니다. Colab은 대화형 노트북 환경으로, 표준 입력에서 읽기와 같은 대화형 입력 방법을 직접 지원하지 않을 수 있습니다.**"
      ],
      "metadata": {
        "id": "OvQrA8s34qgM"
      }
    },
    {
      "cell_type": "markdown",
      "source": [
        "- '콘솔 기반 스크립트'란 명령줄 인터페이스(CLI) 또는 터미널에서 실행되는 스크립트로, 키보드를 통해 명령을 입력하고 입력을 제공함으로써 프로그램과 상호 작용하는 것을 말합니다. 이는 셀에서 코드를 실행하고 노트북 인터페이스 내에서 직접 입력을 제공할 수 있는 Google Colab이나 Jupyter 노트북과 같은 대화형 환경과는 다릅니다.\n",
        "\n",
        "- 콘솔 기반 스크립트에서는 일반적으로 확장자가 .py인 일반 텍스트 파일(예: script.py)에 코드를 작성합니다. 그런 다음 터미널이나 명령 프롬프트에서 스크립트를 실행해 실행합니다."
      ],
      "metadata": {
        "id": "1E_b0Vnb4gkj"
      }
    }
  ]
}