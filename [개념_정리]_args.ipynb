{
  "nbformat": 4,
  "nbformat_minor": 0,
  "metadata": {
    "colab": {
      "provenance": []
    },
    "kernelspec": {
      "name": "python3",
      "display_name": "Python 3"
    },
    "language_info": {
      "name": "python"
    }
  },
  "cells": [
    {
      "cell_type": "markdown",
      "source": [
        "> **일반적인 형태에서 \\*의 사용과 함수에서의 \\*사용 비교**"
      ],
      "metadata": {
        "id": "NKmMN_zPWb8Z"
      }
    },
    {
      "cell_type": "code",
      "execution_count": null,
      "metadata": {
        "colab": {
          "base_uri": "https://localhost:8080/"
        },
        "id": "_EofwsnJWX2H",
        "outputId": "ae41021e-dffa-4744-97a8-44b5f3d8fc20"
      },
      "outputs": [
        {
          "output_type": "stream",
          "name": "stdout",
          "text": [
            "10\n",
            "20\n",
            "['a', 'c']\n"
          ]
        }
      ],
      "source": [
        "# 일반적인 형태에서의 * 사용\n",
        "# - c는 a, b가 값을 받고 남은 값들을 list 형태로 부여 받는다.\n",
        "a, b, *c = 10, 20, 'a', 'c'\n",
        "print(a)\n",
        "print(b)\n",
        "print(c)"
      ]
    },
    {
      "cell_type": "code",
      "source": [
        "# 함수에서의 *의 사용\n",
        "def func1(a,b,*c):\n",
        "  print(a)\n",
        "  print(b)\n",
        "  print(c)\n",
        "\n",
        "func1(10,20,'a', 'b')"
      ],
      "metadata": {
        "colab": {
          "base_uri": "https://localhost:8080/"
        },
        "id": "2v-S-2E-W8HQ",
        "outputId": "808eb874-54a3-48c3-d0dd-29eaf4e20ce1"
      },
      "execution_count": null,
      "outputs": [
        {
          "output_type": "stream",
          "name": "stdout",
          "text": [
            "10\n",
            "20\n",
            "('a', 'b')\n"
          ]
        }
      ]
    },
    {
      "cell_type": "markdown",
      "source": [
        "- 차이점 :  **함수에서는 c가 list 형태가 아닌 tuple이다.**\n",
        "- 추가로, 함수에서 \\*를 사용할 때에는 \\*args 형태로 사용한다. 관습적인 것이라 실제 output에는 상관이 없지만 지키는 것이 좋다."
      ],
      "metadata": {
        "id": "DwtRmtkdXJ_D"
      }
    },
    {
      "cell_type": "markdown",
      "source": [
        ">### **주의 사항**\n",
        "- positional argument를 이요할 때에는 \\*가 가운데 오면 안된다.\n",
        "- 매개변수의 가장 마지막에 와야 한다.\n",
        "- 함수를 정의할 때, 변수명에 \\*를 사용할 때에는 조심해서 사용해야 한다."
      ],
      "metadata": {
        "id": "wMk2EbVVXm7X"
      }
    },
    {
      "cell_type": "code",
      "source": [
        "a, *b, c = 10, 20, 'a', 'c'\n",
        "print(a)\n",
        "print(b)\n",
        "print(c)"
      ],
      "metadata": {
        "colab": {
          "base_uri": "https://localhost:8080/"
        },
        "id": "9JvIJULVYItJ",
        "outputId": "8017de76-4b6d-4666-b6bd-6d49b2e78d08"
      },
      "execution_count": null,
      "outputs": [
        {
          "output_type": "stream",
          "name": "stdout",
          "text": [
            "10\n",
            "[20, 'a']\n",
            "c\n"
          ]
        }
      ]
    },
    {
      "cell_type": "code",
      "source": [
        "def func1(a, *b, c):\n",
        "  print(a)\n",
        "  print(b)\n",
        "  print(c)\n",
        "\n",
        "func1(10,20,'a','c')"
      ],
      "metadata": {
        "colab": {
          "base_uri": "https://localhost:8080/",
          "height": 220
        },
        "id": "CDn9HmBxX9-b",
        "outputId": "20a68a2d-deb1-4153-e535-45429cec70fc"
      },
      "execution_count": null,
      "outputs": [
        {
          "output_type": "error",
          "ename": "TypeError",
          "evalue": "func1() missing 1 required keyword-only argument: 'c'",
          "traceback": [
            "\u001b[0;31m---------------------------------------------------------------------------\u001b[0m",
            "\u001b[0;31mTypeError\u001b[0m                                 Traceback (most recent call last)",
            "\u001b[0;32m<ipython-input-4-8496a6a1e3e2>\u001b[0m in \u001b[0;36m<cell line: 6>\u001b[0;34m()\u001b[0m\n\u001b[1;32m      4\u001b[0m   \u001b[0mprint\u001b[0m\u001b[0;34m(\u001b[0m\u001b[0mc\u001b[0m\u001b[0;34m)\u001b[0m\u001b[0;34m\u001b[0m\u001b[0;34m\u001b[0m\u001b[0m\n\u001b[1;32m      5\u001b[0m \u001b[0;34m\u001b[0m\u001b[0m\n\u001b[0;32m----> 6\u001b[0;31m \u001b[0mfunc1\u001b[0m\u001b[0;34m(\u001b[0m\u001b[0;36m10\u001b[0m\u001b[0;34m,\u001b[0m\u001b[0;36m20\u001b[0m\u001b[0;34m,\u001b[0m\u001b[0;34m'a'\u001b[0m\u001b[0;34m,\u001b[0m\u001b[0;34m'c'\u001b[0m\u001b[0;34m)\u001b[0m\u001b[0;34m\u001b[0m\u001b[0;34m\u001b[0m\u001b[0m\n\u001b[0m",
            "\u001b[0;31mTypeError\u001b[0m: func1() missing 1 required keyword-only argument: 'c'"
          ]
        }
      ]
    },
    {
      "cell_type": "code",
      "source": [
        "# 굳이 *를 가운데에 위치시키고 싶다면\n",
        "# positional argument를 지정해주면 된다.\n",
        "def func1(a, *b, c = 'e'):\n",
        "  print(a)\n",
        "  print(b)\n",
        "  print(c)\n",
        "\n",
        "func1(10,20,'a','c')"
      ],
      "metadata": {
        "colab": {
          "base_uri": "https://localhost:8080/"
        },
        "id": "aINKsgdcYXbM",
        "outputId": "cc0e3694-3588-45e5-ac5d-536067f08ee5"
      },
      "execution_count": null,
      "outputs": [
        {
          "output_type": "stream",
          "name": "stdout",
          "text": [
            "10\n",
            "(20, 'a', 'c')\n",
            "e\n"
          ]
        }
      ]
    },
    {
      "cell_type": "markdown",
      "source": [
        ">#### **위에서는 함수를 정의할 때 매개변수에 \\*를 붙여주었는데, 이번에는 함수를 실행할 때, 인자에 \\*를 붙여보기로 하자.**\n",
        "\n",
        "- 매개변수 : 함수에 입력값으로 선언한 parameter 변수\n",
        "- 인자 : 매개변수에 들어가는 실제 입력값"
      ],
      "metadata": {
        "id": "yhg9A-j2Yman"
      }
    },
    {
      "cell_type": "code",
      "source": [
        "# 함수는 알아서 list 원소들을 unpacking 해주지 않는다.\n",
        "l = [10,20,30]\n",
        "def func1(a,b,c):\n",
        "  print(a)\n",
        "  print(b)\n",
        "  print(c)\n",
        "\n",
        "func1(l)"
      ],
      "metadata": {
        "colab": {
          "base_uri": "https://localhost:8080/",
          "height": 220
        },
        "id": "ycyacDUtZe_R",
        "outputId": "52ef5083-dc3a-4c07-a243-35d454e54aec"
      },
      "execution_count": null,
      "outputs": [
        {
          "output_type": "error",
          "ename": "TypeError",
          "evalue": "func1() missing 2 required positional arguments: 'b' and 'c'",
          "traceback": [
            "\u001b[0;31m---------------------------------------------------------------------------\u001b[0m",
            "\u001b[0;31mTypeError\u001b[0m                                 Traceback (most recent call last)",
            "\u001b[0;32m<ipython-input-8-0cff2b2bdbbc>\u001b[0m in \u001b[0;36m<cell line: 7>\u001b[0;34m()\u001b[0m\n\u001b[1;32m      5\u001b[0m   \u001b[0mprint\u001b[0m\u001b[0;34m(\u001b[0m\u001b[0mc\u001b[0m\u001b[0;34m)\u001b[0m\u001b[0;34m\u001b[0m\u001b[0;34m\u001b[0m\u001b[0m\n\u001b[1;32m      6\u001b[0m \u001b[0;34m\u001b[0m\u001b[0m\n\u001b[0;32m----> 7\u001b[0;31m \u001b[0mfunc1\u001b[0m\u001b[0;34m(\u001b[0m\u001b[0ml\u001b[0m\u001b[0;34m)\u001b[0m\u001b[0;34m\u001b[0m\u001b[0;34m\u001b[0m\u001b[0m\n\u001b[0m",
            "\u001b[0;31mTypeError\u001b[0m: func1() missing 2 required positional arguments: 'b' and 'c'"
          ]
        }
      ]
    },
    {
      "cell_type": "code",
      "source": [
        "# 따라서, 함수를 실행할 때 넣는 인자에 *을 추가해주어야 한다.\n",
        "# unpacking이 완료된 값들을 func1의 인수값으로 넣어주면 원하는 값을 가질 수 있다.\n",
        "l = [10,20,30]\n",
        "def func1(a,b,c):\n",
        "  print(a)\n",
        "  print(b)\n",
        "  print(c)\n",
        "\n",
        "func1(*l)"
      ],
      "metadata": {
        "colab": {
          "base_uri": "https://localhost:8080/"
        },
        "id": "aKXTrQxFZ2hN",
        "outputId": "b66c9087-88dd-4673-8b10-6f88ade13354"
      },
      "execution_count": null,
      "outputs": [
        {
          "output_type": "stream",
          "name": "stdout",
          "text": [
            "10\n",
            "20\n",
            "30\n"
          ]
        }
      ]
    },
    {
      "cell_type": "markdown",
      "source": [
        "> ### **함수를 정의할 때 매개변수에 \\*를 붙히는 것과 함수 인수로 사용하기 위해 unpacking할 때 사용하는 \\*를 잘 구별해야 한다.**"
      ],
      "metadata": {
        "id": "jVQ8gtvTZAqL"
      }
    },
    {
      "cell_type": "markdown",
      "source": [
        "**\\*args**\n",
        "\n",
        "- 개수가 정해지지 않은 다수의 인자가 전달되면, 이 값들을 모두 묶어서 한 개의 tuple 자료형으로 받는 것. 그것이 \\*args의 역할이다.\n",
        "- 복수의 인자값들을 받을 경우 사용"
      ],
      "metadata": {
        "id": "L3-7GTRX7k4L"
      }
    },
    {
      "cell_type": "code",
      "source": [
        "# *args\n",
        "def add_values(v1, v2, *args):\n",
        "  total_sum = v1 + v2\n",
        "  for i in args:\n",
        "    total_sum += i\n",
        "  return total_sum\n",
        "\n",
        "sum_values = add_values(1,2,3,4,5)\n",
        "print(sum_values)"
      ],
      "metadata": {
        "colab": {
          "base_uri": "https://localhost:8080/"
        },
        "id": "vo0mmYc-7kG-",
        "outputId": "230d1fb7-d0a5-41ee-be6c-c2ba5a412ff4"
      },
      "execution_count": 1,
      "outputs": [
        {
          "output_type": "stream",
          "name": "stdout",
          "text": [
            "15\n"
          ]
        }
      ]
    },
    {
      "cell_type": "markdown",
      "source": [
        "**\\*kwargs**\n",
        "- 전달되는 인수를 딕셔너리 형태의 변수에 저장하는 방법"
      ],
      "metadata": {
        "id": "1CkcIfyg8T-u"
      }
    },
    {
      "cell_type": "markdown",
      "source": [
        "![image.png](data:image/png;base64,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)"
      ],
      "metadata": {
        "id": "mrJbC33TiQrX"
      }
    }
  ]
}