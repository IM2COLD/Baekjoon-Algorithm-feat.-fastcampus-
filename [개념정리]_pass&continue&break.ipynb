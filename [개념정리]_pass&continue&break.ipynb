{
  "nbformat": 4,
  "nbformat_minor": 0,
  "metadata": {
    "colab": {
      "provenance": []
    },
    "kernelspec": {
      "name": "python3",
      "display_name": "Python 3"
    },
    "language_info": {
      "name": "python"
    }
  },
  "cells": [
    {
      "cell_type": "markdown",
      "source": [
        "### for과 while문과 같은 반복문에서 사용되는 pass & continue & break\n",
        "---\n",
        "- infinite iterator\n",
        "- 파이썬의 itertools 모듈의 count, cycle, repeat\n",
        "- iterator가 무한히 반복\n"
      ],
      "metadata": {
        "id": "c_ia1e3hL9C4"
      }
    },
    {
      "cell_type": "code",
      "execution_count": null,
      "metadata": {
        "id": "MueAbOWHLuwZ"
      },
      "outputs": [],
      "source": [
        "# 1. count(start, [step])\n",
        "# 숫자 타입(int, float, complex) 부터 step만큼 더해서 무한히 반복\n",
        "\n",
        "from itertools import count\n",
        "\n",
        "# int 20부터 1씩 증가\n",
        "for i in count(20):\n",
        "\tprint(i) # 20, 21, 22, ...\n",
        "\n",
        "# int 10부터 2씩 증가\n",
        "for i in count(10, 2):\n",
        "\tprint(i) # 10, 12, 14, ...\n",
        "\n",
        "# float 2.5부터 0.1씩 증가\n",
        "for i in count(2.5, 0.1):\n",
        "\tprint(i) # 2.5, 2.6, 2.7, 2.8, ...\n",
        "\n",
        "# complex 1+2j부터 2j씩 증가\n",
        "for i in count(1+2j, 2j):\n",
        "\tprint(i) # (1+2j), (1+4j), (1+6j), ..."
      ]
    },
    {
      "cell_type": "code",
      "source": [
        "# 2. cycle(iterable)\n",
        "# iterable한 매개변수를 받으면, 그 매개변수를 무한히 반복\n",
        "from itertools import cycle\n",
        "\n",
        "# 문자열 \"abcd\"를 무한 반복\n",
        "for ch in cycle(\"abcd\"):\n",
        "\tprint(ch) # a, b, c, d, a, b, c, d, a, b, ...\n",
        "\n",
        "# 리스트 [1, 2, 3, 4]를 무한 반복\n",
        "for num in cycle([1, 2, 3, 4]):\n",
        "\tprint(num) # 1, 2, 3, 4, 1, 2, 3, 4, 1, 2, ..."
      ],
      "metadata": {
        "id": "2bYqz2dqM74T"
      },
      "execution_count": null,
      "outputs": []
    },
    {
      "cell_type": "code",
      "source": [
        "# 3. repeat(object, [times])\n",
        "# object 객체를 times 만큼 반복합니다.\n",
        "from itertools import repeat\n",
        "\n",
        "# 정수 10을 3번 반복\n",
        "for i in repeat(10, 3):\n",
        "\tprint(i) # 10, 10, 10\n",
        "\n",
        "# 문자열 'a'를 4번 반복\n",
        "for i in repeat('a', 4):\n",
        "\tprint(i) # a, a, a, a\n",
        "\n",
        "# 리스트 [1, 2, 3]을 3번 반복\n",
        "for i in repeat([1, 2, 3], 3):\n",
        "\tprint(i) # [1, 2, 3], [1, 2, 3], [1, 2, 3]"
      ],
      "metadata": {
        "id": "-BdzK_dgNEgK"
      },
      "execution_count": null,
      "outputs": []
    },
    {
      "cell_type": "markdown",
      "source": [
        "### pass\n",
        "\n",
        "```python\n",
        "def my_function():\n",
        "    pass  # 나중에 구현할 예정\n",
        "```\n",
        "\n",
        "- 이는 파이썬에 '여기엔 코드가 있을거야, 아직 작성할 준비는 안됐어'라고 말한 것과 같다.\n",
        "\n",
        "> **pass와 continue 문**은 유사해 보일 수 있지만 각각 다른 용도를 가진다. continue 문은 반복문 내에서 현재 반복을 건너뛰고 다음 반복으로 이동한다. 반면, pass 문은 다음 코드 구현을 대기하는 플레이스 홀더이다."
      ],
      "metadata": {
        "id": "Dq7qCCvZNL-b"
      }
    },
    {
      "cell_type": "markdown",
      "source": [
        "#### **Pass문을 대체하는 방법**\n",
        "1. 반환 문\n",
        "\n",
        "함수의 맥락에서 pass 대안으로 return을 사용할 수 있다. 함수가 값을 반환 할 필요가 없는 경우 식 없이 return을 사용하여 함수를 종료하고 None을 반환한다.\n",
        "\n",
        "```python\n",
        "def my_function():\n",
        "    return\n",
        "```\n",
        "\n",
        "2. Ellipsis\n",
        "\n",
        "pass의 흥미로운 대체재 인 Ellipsis ( ... )가 있다. pass와 마찬가지로 아무것도하지 않는다. 그러나 주로 슬라이싱 구문 또는 NumPy 배열에서 placeholder로 사용된다.\n",
        "\n",
        "```python\n",
        "def my_function():\n",
        "      ...\n",
        "```\n",
        "\n",
        "이 방법은 pass 문만큼 명확하게 의도를 전달하지는 않는다. pass 문은 목적에 맞게 만들어진 placeholder로서 명시적으로 의도를 전달하기 위해 사용된다."
      ],
      "metadata": {
        "id": "vEtF6lwuOgMX"
      }
    },
    {
      "cell_type": "markdown",
      "source": [
        "### **continue**\n",
        "- 반복문에서 반복을 한번 넘기는 명령어\n",
        "\n",
        "\n",
        "```python\n",
        "for i in iterator:\n",
        "    x : 'loop가 돌 때 항상 실행되어야 하는 명령'\n",
        "    \n",
        "    if 'loop를 끝내야 하는 조건':\n",
        "        continue\n",
        "        \n",
        "    y : 'loop를 끝내야 하는 조건에 걸리지 않았을 때 실행되어야 하는 명령'\n",
        "```\n",
        "\n"
      ],
      "metadata": {
        "id": "fUcbrKf0Pg9Z"
      }
    },
    {
      "cell_type": "markdown",
      "source": [
        "#### **break**\n",
        "- 반복문 안에서 반복을 중지시키는 명령어.\n",
        "- **가장 근접한 반복분의 반복만을 중지시킨다.**\n",
        "- if는 반복문이 아니다."
      ],
      "metadata": {
        "id": "H2mMNqkdP0Oq"
      }
    },
    {
      "cell_type": "code",
      "source": [
        "for i in range(5):\n",
        "    if i == 3:\n",
        "        if True:\n",
        "            if 2: # 0: False 1(0 이외의 다른 수) : True\n",
        "                break\n",
        "    print(i)"
      ],
      "metadata": {
        "colab": {
          "base_uri": "https://localhost:8080/"
        },
        "id": "TpklZxaWQI6W",
        "outputId": "d4e53c3e-f5cc-4575-9d8d-cb93560b87a1"
      },
      "execution_count": 3,
      "outputs": [
        {
          "output_type": "stream",
          "name": "stdout",
          "text": [
            "0\n",
            "1\n",
            "2\n"
          ]
        }
      ]
    }
  ]
}