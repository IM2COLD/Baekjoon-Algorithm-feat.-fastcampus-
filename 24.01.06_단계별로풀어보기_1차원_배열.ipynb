{
  "nbformat": 4,
  "nbformat_minor": 0,
  "metadata": {
    "colab": {
      "provenance": []
    },
    "kernelspec": {
      "name": "python3",
      "display_name": "Python 3"
    },
    "language_info": {
      "name": "python"
    }
  },
  "cells": [
    {
      "cell_type": "code",
      "execution_count": null,
      "metadata": {
        "colab": {
          "base_uri": "https://localhost:8080/"
        },
        "id": "gEezRMUl5Mt_",
        "outputId": "081c094d-a35e-4c06-b9a8-9cf2488839df"
      },
      "outputs": [
        {
          "output_type": "stream",
          "name": "stdout",
          "text": [
            "11\n",
            "1 4 1 2 4 2 4 2 3 4 4\n",
            "2\n",
            "3\n"
          ]
        }
      ],
      "source": [
        "# 10807\n",
        "num = int(input())\n",
        "numlist = list(map(int, input().split()))\n",
        "k = int(input())\n",
        "print(numlist.count(k))"
      ]
    },
    {
      "cell_type": "code",
      "source": [
        "# 10871\n",
        "N, X = input().split()\n",
        "numlist = list(map(int, input().split()))\n",
        "for i in numlist:\n",
        "  if i < int(X) :\n",
        "    print(i, end = ' ')"
      ],
      "metadata": {
        "colab": {
          "base_uri": "https://localhost:8080/"
        },
        "id": "xyZwm1ag5XfL",
        "outputId": "219462a3-14bd-4166-e864-8566cef987d5"
      },
      "execution_count": null,
      "outputs": [
        {
          "output_type": "stream",
          "name": "stdout",
          "text": [
            "10 5\n",
            "1 10 4 9 2 3 8 5 7 6\n",
            "1 4 2 3 "
          ]
        }
      ]
    },
    {
      "cell_type": "code",
      "source": [
        "# 10818\n",
        "N = input()\n",
        "numlist = list(map(int, input().split()))\n",
        "maxx = max(numlist)\n",
        "minn = min(numlist)\n",
        "print( minn, maxx)"
      ],
      "metadata": {
        "colab": {
          "base_uri": "https://localhost:8080/"
        },
        "id": "FecMtpbp5YHq",
        "outputId": "ad70f62d-1594-4417-b871-e8d92e9b9a5d"
      },
      "execution_count": null,
      "outputs": [
        {
          "output_type": "stream",
          "name": "stdout",
          "text": [
            "5\n",
            "20 10 35 30 7\n",
            "35 7\n"
          ]
        }
      ]
    },
    {
      "cell_type": "code",
      "source": [
        "# 2562\n",
        "import sys\n",
        "lst = []\n",
        "\n",
        "for _ in range(9):\n",
        "  num = int(sys.stdin.readline())\n",
        "  lst.append(num)\n",
        "\n",
        "g = max(lst)\n",
        "print(g)\n",
        "print(lst.index(g) + 1)"
      ],
      "metadata": {
        "id": "w1jOcGm35ZHi"
      },
      "execution_count": null,
      "outputs": []
    },
    {
      "cell_type": "markdown",
      "source": [
        "- readline() - 파일의 한 줄을 가져와 문자열로 반환합니다. 파일 포인터는 그 다음줄로 이동합니다.\n",
        "\n",
        "- readlines() - 파일 내용 전체를 가져와 리스트로 반환합니다. 각 줄은 문자열 형태로 리스트의 요소로 저장됩니다."
      ],
      "metadata": {
        "id": "uz2omLSSCQYu"
      }
    },
    {
      "cell_type": "code",
      "source": [
        "# 10810\n",
        "\n",
        "N, M = map(int, input().split())\n",
        "lst = ['0'] * N\n",
        "for _ in range(M):\n",
        "  i, j , k = map(int, input().split())\n",
        "  for ch in range(i-1,j):\n",
        "    lst[ch] = str(k)\n",
        "\n",
        "lst = ' '.join(lst)\n",
        "print(lst)"
      ],
      "metadata": {
        "id": "6UEbqKAF5Z8q"
      },
      "execution_count": null,
      "outputs": []
    },
    {
      "cell_type": "markdown",
      "source": [
        "> Error occurrence factor\n",
        "\n",
        "- ' '.join(list)를 하려면 list 안에 원소들이 모두 str 타입이어야 하는데, **lst = [0] * N** 으로 지정해주어서 제대로 str으로 변환이 되지 않았었다.\n"
      ],
      "metadata": {
        "id": "DWSwYqrS6x8w"
      }
    },
    {
      "cell_type": "code",
      "source": [
        "a = ['1','2','3']\n",
        "''.join(a)"
      ],
      "metadata": {
        "colab": {
          "base_uri": "https://localhost:8080/",
          "height": 35
        },
        "id": "DfNWGPcbt_o_",
        "outputId": "258eb1a2-3730-4819-a711-9d1f6086e88a"
      },
      "execution_count": null,
      "outputs": [
        {
          "output_type": "execute_result",
          "data": {
            "text/plain": [
              "'123'"
            ],
            "application/vnd.google.colaboratory.intrinsic+json": {
              "type": "string"
            }
          },
          "metadata": {},
          "execution_count": 9
        }
      ]
    },
    {
      "cell_type": "markdown",
      "source": [
        "### **String을 List로**\n",
        "\n",
        "\n",
        "```python\n",
        "text = 'abcd'\n",
        "list1 = list(text)\n",
        "list1\n",
        ">>> ['a', 'b', 'c', 'd']\n",
        "```\n",
        "\n",
        "### **List를 String으로**\n",
        "```python\n",
        "list1 = ['a', 'b', 'c', 'd']\n",
        "str2 = ''.join(list1)\n",
        "```"
      ],
      "metadata": {
        "id": "Z6ZWEUKwuMb3"
      }
    },
    {
      "cell_type": "code",
      "source": [
        "# 10813\n",
        "N, M = map(int,input().split())\n",
        "lst = [str(x) for x in range(1, N+1)]\n",
        "for _ in range(M):\n",
        "  i, j = map(int, input().split())\n",
        "  lst[i-1], lst[j-1] = lst[j-1], lst[i-1]\n",
        "\n",
        "lst = ' '.join(lst)\n",
        "print(lst)"
      ],
      "metadata": {
        "id": "wx4TZiPI5a76",
        "colab": {
          "base_uri": "https://localhost:8080/"
        },
        "outputId": "9d92e6bc-09cf-463c-8edb-740290c09150"
      },
      "execution_count": null,
      "outputs": [
        {
          "name": "stdout",
          "output_type": "stream",
          "text": [
            "3\n"
          ]
        },
        {
          "output_type": "execute_result",
          "data": {
            "text/plain": [
              "[1, 2, 3]"
            ]
          },
          "metadata": {},
          "execution_count": 15
        }
      ]
    },
    {
      "cell_type": "code",
      "source": [
        "# 5597\n",
        "stu = [0] *31\n",
        "for _ in range(28):\n",
        "  num = int(input())\n",
        "  stu[num] = 1\n",
        "\n",
        "fir = stu.index(0)\n",
        "sec = stu.index(0, fir+1)\n",
        "thir = stu.index(0, sec+1)\n",
        "\n",
        "print(sec, end = '\\n')\n",
        "print(thir)"
      ],
      "metadata": {
        "id": "LtJw-RRM5buS",
        "colab": {
          "base_uri": "https://localhost:8080/"
        },
        "outputId": "f215ee84-f63a-4f0d-931e-70819cc78b0b"
      },
      "execution_count": null,
      "outputs": [
        {
          "output_type": "stream",
          "name": "stdout",
          "text": [
            "1\n",
            "2\n"
          ]
        }
      ]
    },
    {
      "cell_type": "markdown",
      "source": [
        "> **array.index(x[, start[, stop]])**\n",
        "\n",
        "- array.index(x) 리스트에서 x의 인덱스 반환\n",
        "- array.index(x, start) 리스트[start:]에서 x의 인덱스 반환\n",
        "- array.index(x, start, stop) 리스트[start:stop]에서 x의 인덱스 반환\n",
        "\n",
        "- 중복된 원소가 있으면 가장 작은 인덱스를 리턴\n",
        "- 문자열에서도 인덱스를 찾을 수 있음"
      ],
      "metadata": {
        "id": "WTz8JzirEpsB"
      }
    },
    {
      "cell_type": "code",
      "source": [
        "# 3052\n",
        "a = []\n",
        "for _ in range(10):\n",
        "  a.append(int(input()) % 42)\n",
        "print(len(set(a)))"
      ],
      "metadata": {
        "id": "Bug7RVfU5cf6"
      },
      "execution_count": null,
      "outputs": []
    },
    {
      "cell_type": "code",
      "source": [
        "# 10811\n",
        "N, M = map(int,input().split())\n",
        "array = [str(x) for x in range(1, N+1)]\n",
        "for _ in range(M):\n",
        "  st, en = map(int,input().split())\n",
        "  if st == en:\n",
        "    continue\n",
        "  changear = list(reversed(array[st-1 : en]))\n",
        "  idx = 0\n",
        "  for i in range(st-1, en): # st-1 ~ en-1\n",
        "    array[i] = changear[idx]\n",
        "    idx += 1\n",
        "\n",
        "rst = ' '.join(array)\n",
        "print(rst)"
      ],
      "metadata": {
        "id": "o7TfPKWJ5dX7",
        "colab": {
          "base_uri": "https://localhost:8080/"
        },
        "outputId": "d65b470a-59be-48c8-c122-0603708e1fbe"
      },
      "execution_count": 44,
      "outputs": [
        {
          "output_type": "stream",
          "name": "stdout",
          "text": [
            "5 4\n",
            "1 2\n",
            "['2', '1']\n",
            "['2', '2', '3', '4', '5']\n",
            "['2', '1', '3', '4', '5']\n",
            "3 4\n",
            "['4', '3']\n",
            "['2', '1', '4', '4', '5']\n",
            "['2', '1', '4', '3', '5']\n",
            "1 4\n",
            "['3', '4', '1', '2']\n",
            "['3', '1', '4', '3', '5']\n",
            "['3', '4', '4', '3', '5']\n",
            "['3', '4', '1', '3', '5']\n",
            "['3', '4', '1', '2', '5']\n",
            "2 2\n",
            "3 4 1 2 5\n"
          ]
        }
      ]
    },
    {
      "cell_type": "markdown",
      "source": [
        "### List 내의 일부 순서 바꾸기\n",
        "\n",
        "```python\n",
        "# reverse() : 원본 파일을 변화시킴\n",
        "lst = [1,2,3,4,5]\n",
        "lst_reverse = list(reversed(lst))\n",
        "lst_reverse\n",
        ">>> [5,4,3,2,1]\n",
        "```\n",
        "```python\n",
        "# reverse()\n",
        "lst = [1,2,3,4,5]\n",
        "lst.reverse()\n",
        "lst\n",
        ">>> [5,4,3,2,1]\n",
        "```\n",
        "\n",
        "```python\n",
        "# for 반복문을 통한 뒤집기\n",
        "lst = [1,2,3,4,5]\n",
        "lst.reverse()\n",
        "lst\n",
        ">>> [5,4,3,2,1]\n",
        "```\n",
        "\n",
        "```python\n",
        "a = [0,1,2,3,4,5,6,7]\n",
        "a[5:3:-1]\n",
        ">>> [5, 4]\n",
        "```\n",
        "\n"
      ],
      "metadata": {
        "id": "Ex2Xq4NQbizl"
      }
    },
    {
      "cell_type": "code",
      "source": [
        "# 1546\n",
        "N = int(input())\n",
        "a = list(map(int, input().split()))\n",
        "M = max(a)\n",
        "change = list(map(lambda x : x / M * 100, a))\n",
        "print(int(sum(change)) / N)"
      ],
      "metadata": {
        "id": "I2Kidcx45eP1",
        "colab": {
          "base_uri": "https://localhost:8080/"
        },
        "outputId": "298cfa4b-90ef-4c5c-d856-2326d69d1c69"
      },
      "execution_count": 54,
      "outputs": [
        {
          "output_type": "stream",
          "name": "stdout",
          "text": [
            "3\n",
            "40 50 60\n",
            "83.33333333333333\n"
          ]
        }
      ]
    }
  ]
}