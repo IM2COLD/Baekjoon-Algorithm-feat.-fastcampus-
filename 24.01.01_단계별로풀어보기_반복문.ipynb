{
  "nbformat": 4,
  "nbformat_minor": 0,
  "metadata": {
    "colab": {
      "provenance": []
    },
    "kernelspec": {
      "name": "python3",
      "display_name": "Python 3"
    },
    "language_info": {
      "name": "python"
    }
  },
  "cells": [
    {
      "cell_type": "code",
      "execution_count": 1,
      "metadata": {
        "id": "7Ys72bh_gu95"
      },
      "outputs": [],
      "source": [
        "# 2739\n",
        "num = int(input())\n",
        "for i in range(1,10):\n",
        "  print(f'{num} * {i} =', num*i)"
      ]
    },
    {
      "cell_type": "code",
      "source": [
        "# 10950\n",
        "num = int(input())\n",
        "for _ in range(num):\n",
        "  A, B = map(int,input().split())\n",
        "  print( A + B)"
      ],
      "metadata": {
        "id": "MwdGpy6bh70m"
      },
      "execution_count": null,
      "outputs": []
    },
    {
      "cell_type": "code",
      "source": [
        "# 8393\n",
        "num = int(input())\n",
        "print(int((1 + num) * num/2))"
      ],
      "metadata": {
        "id": "lA1XsY9Ph8rf"
      },
      "execution_count": null,
      "outputs": []
    },
    {
      "cell_type": "code",
      "source": [
        "# 25304\n",
        "total = int(input())\n",
        "num = int(input())\n",
        "plus = 0\n",
        "for _ in range(num):\n",
        "  price, numb = map(int, input().split())\n",
        "  plus += price * numb\n",
        "if plus == total:\n",
        "  print('Yes')\n",
        "else:\n",
        "  print('No')"
      ],
      "metadata": {
        "id": "BEEPz_3Lh9dV"
      },
      "execution_count": null,
      "outputs": []
    },
    {
      "cell_type": "code",
      "source": [
        "# 25314\n",
        "num = int(input())\n",
        "num = int(num / 4)\n",
        "print('long '*num + 'int')"
      ],
      "metadata": {
        "id": "oAoz_xb1h-NV"
      },
      "execution_count": null,
      "outputs": []
    },
    {
      "cell_type": "code",
      "source": [
        "# 15552\n",
        "# 단, 이때는 맨 끝의 개행문자까지 같이 입력받기 때문에\n",
        "# 문자열을 저장하고 싶을 경우 .rstrip()을 추가로 해 주는 것이 좋다.\n",
        "import sys\n",
        "T = int(sys.stdin.readline().strip('\\n'))\n",
        "\n",
        "for i in range(1, T+1):\n",
        "  A, B = map(int, sys.stdin.readline().strip('\\n').split())\n",
        "  print(f'Case #{i}: {A+B}')"
      ],
      "metadata": {
        "id": "_FeZ0H9zh_HB"
      },
      "execution_count": null,
      "outputs": []
    },
    {
      "cell_type": "markdown",
      "source": [
        "### 중요!\n",
        "```python\n",
        "int(sys.stdin.readline().strip('\\n'))\n",
        "```\n",
        "- sys.stdin.readline().strip('\\n')을 사용하는 이유는 주로 개행 문자('\\n')를 제거하기 위해서입니다. sys.stdin.readline()은 한 줄을 읽어오는데, 이때 개행 문자가 같이 읽혀지기 때문에 그것을 제거해주기 위해 strip('\\n')을 사용합니다.\n",
        "\n",
        "- 반면에 int(input())에서는 input() 함수 자체가 사용자의 입력을 받아오면서 개행 문자를 포함한 문자열로 반환합니다. 그래서 별도로 strip('\\n')을 사용하지 않아도 됩니다. int() 함수는 문자열을 정수로 변환하는데, 문자열에 숫자 이외의 다른 문자가 있으면 에러를 발생시킵니다. 하지만 input() 함수는 사용자가 엔터 키를 입력할 때까지 입력을 받으므로, 개행 문자('\\n') 이전까지의 문자열만을 int() 함수에 전달하게 됩니다.\n",
        "\n",
        "- 따라서 int(sys.stdin.readline().strip('\\n'))과 int(input())은 다르게 동작하지만, 개행 문자의 처리 방식이 각각에 맞게 이루어지기 때문에 별도의 처리가 필요하지 않습니다.\n",
        "\n"
      ],
      "metadata": {
        "id": "DecYSow18k57"
      }
    },
    {
      "cell_type": "code",
      "source": [
        "# 11021\n",
        "# run time error\n",
        "num = int(input())\n",
        "for i in range(1, num+1):\n",
        "  A, B = map(int, sys.stdin.readline().split())\n",
        "  print(f'Case #{i}: {A+B}')"
      ],
      "metadata": {
        "id": "Tgk6ZbX9h_0t"
      },
      "execution_count": null,
      "outputs": []
    },
    {
      "cell_type": "code",
      "source": [
        "num = int(input())\n",
        "for i in range(1, num+1):\n",
        "  A, B = map(int, input().split())\n",
        "  print(f'Case #{i}: {A+B}')"
      ],
      "metadata": {
        "id": "u7abH2L07ntf"
      },
      "execution_count": null,
      "outputs": []
    },
    {
      "cell_type": "code",
      "source": [
        "# 11022\n",
        "num = int(input())\n",
        "for i in range(1, num+1):\n",
        "  A, B = map(int, input().split())\n",
        "  print(f'Case #{i}: {A} + {B} = {A+B}')"
      ],
      "metadata": {
        "id": "Ioac7e21iAvt"
      },
      "execution_count": null,
      "outputs": []
    },
    {
      "cell_type": "code",
      "source": [
        "# 2438\n",
        "num = int(input())\n",
        "for i in range(1, num + 1):\n",
        "  print('*' * i, end = '\\n')"
      ],
      "metadata": {
        "id": "mqBxtrGmiBqe"
      },
      "execution_count": null,
      "outputs": []
    },
    {
      "cell_type": "code",
      "source": [
        "# 2439\n",
        "N = int(input())\n",
        "for i in range(1, N+1):\n",
        "  rs = '*'*i\n",
        "  print('{1:>{0}}'.format(N,rs))"
      ],
      "metadata": {
        "colab": {
          "base_uri": "https://localhost:8080/"
        },
        "id": "w2lFTvU2iCll",
        "outputId": "e8064a40-6e10-4369-8616-c8de1cede58a"
      },
      "execution_count": 11,
      "outputs": [
        {
          "output_type": "stream",
          "name": "stdout",
          "text": [
            "4\n",
            "   *\n",
            "  **\n",
            " ***\n",
            "****\n"
          ]
        }
      ]
    },
    {
      "cell_type": "markdown",
      "source": [
        "> 코드에서 사용한 {:>N}는 문자열의 오른쪽 정렬을 나타냅니다. 그러나 여기서 N은 변수가 아닌 고정된 문자로 간주됩니다. 따라서 N을 변수로 사용하는 것은 예상한 대로 동작하지 않을 것입니다.\n",
        "\n",
        "- 올바른 방법은 중괄호 안에 변수를 넣고, format 메서드에 전달하는 것입니다. 아래는 수정된 코드입니다\n",
        "\n",
        "\n",
        "```python\n",
        "N = int(input())\n",
        "for i in range(1, N+1):\n",
        "    rs = '*'*i\n",
        "    print('{:>{width}}'.format(rs, width=N))\n",
        "\n",
        "```\n",
        "\n"
      ],
      "metadata": {
        "id": "FEaB9qzcSMiC"
      }
    },
    {
      "cell_type": "code",
      "source": [
        "# 10952\n",
        "import sys\n",
        "while True:\n",
        "  A, B = map(int,sys.stdin.readline().strip('\\n').split())\n",
        "  if A == 0:\n",
        "    break\n",
        "  else:\n",
        "    print(A + B)"
      ],
      "metadata": {
        "id": "QFCEF-29iDSe"
      },
      "execution_count": null,
      "outputs": []
    },
    {
      "cell_type": "code",
      "source": [
        "# 10951\n",
        "import sys\n",
        "while True:\n",
        "  try:\n",
        "    A, B = map(int,input().split())\n",
        "  except :\n",
        "    print('End3')\n",
        "    break\n",
        "  print(A + B)"
      ],
      "metadata": {
        "colab": {
          "base_uri": "https://localhost:8080/"
        },
        "id": "Y3IwHqumanhT",
        "outputId": "c43d61a0-dddc-4518-c002-42b6639f402c"
      },
      "execution_count": 18,
      "outputs": [
        {
          "output_type": "stream",
          "name": "stdout",
          "text": [
            "2 3\n",
            "5\n",
            "4 6\n",
            "10\n",
            "4 5 2\n",
            "End\n"
          ]
        }
      ]
    },
    {
      "cell_type": "markdown",
      "source": [
        "### **예외처리**\n",
        "- try : 실행코드(오류가 발생하나 보자!)\n",
        "- except : 예외처리 코드(오류가 발생하면 이걸 실행해줘!)\n",
        "- else : 예외처리할 오류가 없을때 실행되는 코드\n",
        "- finally : 오류 발생여부 상관 없이 무조건 실행되는 코드\n",
        "- raise : 오류를 일부러 발생시키기\n",
        "---\n",
        "- pass : 실행할 코드가 없는 것으로 다음 행동을 계속해서 진행합니다.\n",
        "- continue : 바로 다음 순번의 loop를 수행합니다.\n",
        "- break : 반복문을 멈추고 loop 밖으로 나가도록합니다."
      ],
      "metadata": {
        "id": "SaiZdbnLiicp"
      }
    },
    {
      "cell_type": "markdown",
      "source": [
        "> 위의 문제에서 아무것도 입력해주지 않고 멈춰있다면 while문은 **A, B = map(int,input().split())** 해당 코드에서 입력을 기다리면서 기다리는 시간 초과는 고려하지 않는 것일까?\n",
        "\n",
        "- 로컬에서는 표준입력 파일이 파이프(pipe)로 설정되어 계속해서 입력을 받게 됩니다. 반면 백준에서는 표준입력 파일이 파일시스템 상에 존재하는 통상적으로 지칭하는 의미의 파일로 리디렉션(redirection)되어 프로그램이 실행됩니다. 따라서 파일의 끝이 존재하므로 시간 초과가 발생하지 않습니다. 로컬 실행환경에서는 **EOF 문자**를 입력하거나 표준입력 파일을 백준처럼 설정하여 테스트하시면 같은 결과를 얻으실 수 있습니다.\n",
        "\n"
      ],
      "metadata": {
        "id": "OIDcmI2jbwH2"
      }
    }
  ]
}