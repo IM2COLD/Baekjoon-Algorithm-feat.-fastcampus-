{
  "nbformat": 4,
  "nbformat_minor": 0,
  "metadata": {
    "colab": {
      "provenance": []
    },
    "kernelspec": {
      "name": "python3",
      "display_name": "Python 3"
    },
    "language_info": {
      "name": "python"
    }
  },
  "cells": [
    {
      "cell_type": "code",
      "execution_count": null,
      "metadata": {
        "colab": {
          "base_uri": "https://localhost:8080/"
        },
        "id": "aYQGEOv1bqy0",
        "outputId": "b5c9ce6b-e773-4102-9d2d-a7e41c1fbf6c"
      },
      "outputs": [
        {
          "output_type": "stream",
          "name": "stdout",
          "text": [
            "4\n",
            "aba\n",
            "abab\n",
            "abcabc\n",
            "a\n",
            "1\n",
            "1\n"
          ]
        }
      ],
      "source": [
        "num = int(input())\n",
        "rst = 0\n",
        "\n",
        "for _ in range(num):\n",
        "  word = input()\n",
        "  usedalpha = set()\n",
        "  usedalpha.add(word[0])\n",
        "  is_group_word = True\n",
        "\n",
        "  if len(word) <= 2:\n",
        "    is_group_word = True\n",
        "  elif len(word) > 2:\n",
        "    for i in range(1,len(word)):\n",
        "      if word[i-1] != word[i]:\n",
        "        if word[i] in usedalpha:\n",
        "          is_group_word = False\n",
        "          break\n",
        "        else:\n",
        "          usedalpha.add(word[i])\n",
        "\n",
        "  if is_group_word:\n",
        "    rst += 1\n",
        "print(rst)"
      ]
    },
    {
      "cell_type": "code",
      "source": [
        "for i in range(1,1):\n",
        "  print(i)"
      ],
      "metadata": {
        "id": "159EryRi_bdZ"
      },
      "execution_count": 7,
      "outputs": []
    },
    {
      "cell_type": "markdown",
      "source": [
        "> Code 안에서의 break의 사용 => 가장 가까운 반복문 중지\n",
        "\n",
        "- In your provided code, if the break statement is executed, it will break out of the innermost loop (for i in word:).\n",
        "- Therefore, the outer loop (for _ in range(num):) will continue with the next iteration, if there are more iterations left."
      ],
      "metadata": {
        "id": "0qncF-68TlNt"
      }
    },
    {
      "cell_type": "markdown",
      "source": [
        "### 모범 답안"
      ],
      "metadata": {
        "id": "0t--3FO3CjD9"
      }
    },
    {
      "cell_type": "code",
      "source": [
        "# open(0): open 내장 함수를 사용하여 파일 디스크립터 0에 해당하는 파일을 엽니다.\n",
        "# 일반적으로 이는 표준 입력을 나타냅니다.\n",
        "# 이 경우에는 표준 입력(stdin)에서 입력을 읽습니다.\n",
        "\n",
        "# [*x]: 언패킹 연산자 *를 사용하는 리스트 내포입니다.\n",
        "# 각 줄을 가져와서 문자의 리스트로 변환합니다."
      ],
      "metadata": {
        "id": "v8OeybdfCgeH"
      },
      "execution_count": null,
      "outputs": []
    },
    {
      "cell_type": "code",
      "source": [
        "# 단어 x를 x에서 처음 나온 단어들 순으로 나열했을 때, 그 값이 단어 x를 정렬하지 않고 list로 바꿨을 때와 같음을 이용한 코드\n",
        "n=0\n",
        "for x in [input() for _ in range(int(input()))]:\n",
        "  n += (list(x)==sorted(x, key=x.find))\n",
        "print(n)"
      ],
      "metadata": {
        "id": "YZ0n0TruCidt"
      },
      "execution_count": null,
      "outputs": []
    },
    {
      "cell_type": "markdown",
      "source": [
        "\n",
        "\n",
        "```python\n",
        "sorted(x, key=x.find)\n",
        "# 원래 줄의 각 문자의 인덱스를 기준으로 문자의 리스트를 정렬합니다.\n",
        "# 이는 문자를 원래 줄에 나타난 순서대로 정렬합니다.\n",
        "```\n",
        "\n"
      ],
      "metadata": {
        "id": "C2GB2qOwC7ko"
      }
    },
    {
      "cell_type": "code",
      "source": [
        "# key는 함수이기 때문에 직접적으로 print(key)로 출력하는 것은 불가능\n",
        "x = \"banana\"\n",
        "key = x.find\n",
        "print(key)\n",
        "# <built-in method find of str object at ...>과 같은 출력은 내장 메서드의 문자열 표현"
      ],
      "metadata": {
        "colab": {
          "base_uri": "https://localhost:8080/"
        },
        "id": "ubXvdbBRgNwd",
        "outputId": "af0b7996-6b77-4ae1-b6f6-394be7d7425d"
      },
      "execution_count": 6,
      "outputs": [
        {
          "output_type": "stream",
          "name": "stdout",
          "text": [
            "<built-in method find of str object at 0x7802cb06dc30>\n"
          ]
        }
      ]
    }
  ]
}