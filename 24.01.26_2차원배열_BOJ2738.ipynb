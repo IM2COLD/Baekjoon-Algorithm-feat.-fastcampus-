{
  "nbformat": 4,
  "nbformat_minor": 0,
  "metadata": {
    "colab": {
      "provenance": []
    },
    "kernelspec": {
      "name": "python3",
      "display_name": "Python 3"
    },
    "language_info": {
      "name": "python"
    }
  },
  "cells": [
    {
      "cell_type": "markdown",
      "source": [
        "> 2차원 배열 : 배열 안에 배열이 있다면?"
      ],
      "metadata": {
        "id": "atthQJIkKYOh"
      }
    },
    {
      "cell_type": "code",
      "execution_count": null,
      "metadata": {
        "colab": {
          "base_uri": "https://localhost:8080/"
        },
        "id": "WDI0QkEnKSWu",
        "outputId": "a7e31c0a-6b10-40ab-87b6-c8e452235d20"
      },
      "outputs": [
        {
          "output_type": "stream",
          "name": "stdout",
          "text": [
            "3 3\n",
            "2 2 2\n",
            "6 6 6\n",
            "4 4 4\n",
            "7 7 7\n",
            "1 1 1\n",
            "9 9 9\n",
            "9 9 9\n",
            "7 7 7\n",
            "13 13 13\n"
          ]
        }
      ],
      "source": [
        "# 답안 코드\n",
        "n, m = map(int, input().split())\n",
        "ListA = []\n",
        "for i in range(n):\n",
        "  ListA.extend([input().split()])\n",
        "ListB = []\n",
        "for i in range(n):\n",
        "  ListB.extend([input().split()])\n",
        "\n",
        "for i in zip(ListA, ListB):\n",
        "  for k in range(m):\n",
        "    if k == (m-1):\n",
        "      print(int(i[0][k]) + int(i[1][k]), end = '\\n')\n",
        "      continue\n",
        "    print(int(i[0][k]) + int(i[1][k]), end = ' ')"
      ]
    },
    {
      "cell_type": "code",
      "source": [
        "n, m = map(int, input().split())\n",
        "ListA = []\n",
        "for i in range(n):\n",
        "  ListA.extend([input().split()]) # extend는 iterable 안의 원소를 한번에 다 추가해줌"
      ],
      "metadata": {
        "colab": {
          "base_uri": "https://localhost:8080/"
        },
        "id": "NzmLNiamLmvt",
        "outputId": "1ddc01e0-041b-441f-acbf-1ee5f97084c9"
      },
      "execution_count": null,
      "outputs": [
        {
          "name": "stdout",
          "output_type": "stream",
          "text": [
            "3 3\n",
            "1 1 1\n",
            "2 2 2\n",
            "0 1 0\n"
          ]
        }
      ]
    },
    {
      "cell_type": "code",
      "source": [
        "a = input().split()\n",
        "[a] # 이렇게 extend로 했어서, []로 감싸진 list 한개만 원소로 추가될 수 있었다.\n",
        "# 반환값은 list"
      ],
      "metadata": {
        "colab": {
          "base_uri": "https://localhost:8080/"
        },
        "id": "MjXdhLaDLLSy",
        "outputId": "32a07e03-f180-4c95-f819-15da6b6c9636"
      },
      "execution_count": null,
      "outputs": [
        {
          "name": "stdout",
          "output_type": "stream",
          "text": [
            "4 5 6\n"
          ]
        },
        {
          "output_type": "execute_result",
          "data": {
            "text/plain": [
              "[['4', '5', '6']]"
            ]
          },
          "metadata": {},
          "execution_count": 19
        }
      ]
    }
  ]
}