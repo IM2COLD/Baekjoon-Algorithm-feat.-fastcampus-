{
  "nbformat": 4,
  "nbformat_minor": 0,
  "metadata": {
    "colab": {
      "provenance": []
    },
    "kernelspec": {
      "name": "python3",
      "display_name": "Python 3"
    },
    "language_info": {
      "name": "python"
    }
  },
  "cells": [
    {
      "cell_type": "code",
      "source": [
        "변수 := 값"
      ],
      "metadata": {
        "id": "gmen8vPu7aC3"
      },
      "execution_count": null,
      "outputs": []
    },
    {
      "cell_type": "markdown",
      "source": [
        "- 할당 표현식(assignment expression)은 파이썬 3.8 버전부터 도입된 기능\n",
        "- := 연산자를 사용하여 변수에 값을 할당하면서 동시에 해당 값을 반환하는 표현식입니다.\n",
        "- 이는 코드를 좀 더 간결하게 작성할 수 있게 해주며, 특히 표현식을 반복해서 계산하거나 중복해서 사용할 때 유용합니다.\n",
        "\n",
        "- 간단한 예시를 통해 이해해보겠습니다. 예를 들어, 리스트에서 최댓값을 찾고자 할 때 다음과 같이 사용할 수 있습니다"
      ],
      "metadata": {
        "id": "x46NvM6e5voB"
      }
    },
    {
      "cell_type": "code",
      "source": [
        "hello = 'Hello, world!'\n",
        "\n",
        "length = len(hello)\n",
        "if length >= 10:\n",
        "    print(f'length는 {length}, 10 이상')"
      ],
      "metadata": {
        "colab": {
          "base_uri": "https://localhost:8080/"
        },
        "id": "EATBeF7W7ePM",
        "outputId": "32e0d23a-efc9-4e32-c7ce-290867f1b88b"
      },
      "execution_count": 12,
      "outputs": [
        {
          "output_type": "stream",
          "name": "stdout",
          "text": [
            "length는 13, 10 이상\n"
          ]
        }
      ]
    },
    {
      "cell_type": "code",
      "source": [
        "hello = 'Hello, world!'\n",
        "\n",
        "if (length := len(hello)) >= 10:\n",
        "    print(f'length는 {length}, 10 이상')"
      ],
      "metadata": {
        "colab": {
          "base_uri": "https://localhost:8080/"
        },
        "id": "0WZesA267hTs",
        "outputId": "632d5880-5f7f-4856-e40e-3834c3d7d6e8"
      },
      "execution_count": 13,
      "outputs": [
        {
          "output_type": "stream",
          "name": "stdout",
          "text": [
            "length는 13, 10 이상\n"
          ]
        }
      ]
    },
    {
      "cell_type": "code",
      "execution_count": 17,
      "metadata": {
        "colab": {
          "base_uri": "https://localhost:8080/"
        },
        "id": "xwcZDYwg5sDf",
        "outputId": "3b73452f-a49a-4a8a-8702-3199a2ab341b"
      },
      "outputs": [
        {
          "output_type": "stream",
          "name": "stdout",
          "text": [
            "5\n"
          ]
        }
      ],
      "source": [
        "numbers = [3, 1, 4, 1, 5, 9, 2, 6, 5, 3, 5]\n",
        "# 할당 표현식 사용\n",
        "index_of_max = (max_index := numbers.index(max(numbers)))\n",
        "print(index_of_max)\n",
        "### 파이썬 3.8 버전 이상에서 할당 표현식을 사용하려면 전체 식을 괄호로 둘러싸야 합니다. ###"
      ]
    },
    {
      "cell_type": "markdown",
      "source": [
        "> 반복문을 통한 예시"
      ],
      "metadata": {
        "id": "Qq8MjH_r6Fog"
      }
    },
    {
      "cell_type": "code",
      "source": [
        "# 기존 방식\n",
        "squares = []\n",
        "for num in range(1, 6):\n",
        "    squares.append(num ** 2)\n",
        "\n",
        "# 할당 표현식 사용\n",
        "(squares := num ** 2 for num in range(1, 6))\n",
        "print(squares)\n",
        "# 리스트 컴프리헨션을 사용하여 한 줄로 리스트를 생성하고, 이를 squares 변수에 할당하면서 동시에 반환"
      ],
      "metadata": {
        "colab": {
          "base_uri": "https://localhost:8080/"
        },
        "id": "bxBsRlI46Id-",
        "outputId": "d89b82a1-8ea0-450f-8277-2617378af1d2"
      },
      "execution_count": 20,
      "outputs": [
        {
          "output_type": "stream",
          "name": "stdout",
          "text": [
            "[1, 4, 9, 16, 25]\n"
          ]
        }
      ]
    },
    {
      "cell_type": "markdown",
      "source": [
        "> 할당 표현식은 리스트 안에서도 사용 가능"
      ],
      "metadata": {
        "id": "xb2Oqt__83aG"
      }
    },
    {
      "cell_type": "code",
      "source": [
        "# 할당하면서 반환\n",
        "# 예시 1\n",
        "a = 10\n",
        "b = (a := a + 1)\n",
        "print(a, b)\n",
        "\n",
        "# 예시 2\n",
        "c = 5\n",
        "d = (c := c * 2) + 1\n",
        "print(c, d)"
      ],
      "metadata": {
        "colab": {
          "base_uri": "https://localhost:8080/"
        },
        "id": "pHA0ziwl67q4",
        "outputId": "6e3b17ea-56e5-467f-8917-f1ac1d8023cc"
      },
      "execution_count": 21,
      "outputs": [
        {
          "output_type": "stream",
          "name": "stdout",
          "text": [
            "11 11\n",
            "10 11\n"
          ]
        }
      ]
    }
  ]
}
