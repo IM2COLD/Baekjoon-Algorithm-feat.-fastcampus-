{
  "nbformat": 4,
  "nbformat_minor": 0,
  "metadata": {
    "colab": {
      "provenance": []
    },
    "kernelspec": {
      "name": "python3",
      "display_name": "Python 3"
    },
    "language_info": {
      "name": "python"
    }
  },
  "cells": [
    {
      "cell_type": "code",
      "execution_count": 1,
      "metadata": {
        "id": "KnHRaKFMZyVZ"
      },
      "outputs": [],
      "source": [
        "# 11718\n",
        "import sys\n",
        "\n",
        "while True:\n",
        "    try:\n",
        "        line = sys.stdin.readline().strip('\\n')\n",
        "        if not line:\n",
        "            break  # Break the loop if no input is provided\n",
        "        print(line)\n",
        "    except EOFError: # EORError는 file의 끝이라는 특정 오류에만 반복문이 멈추게끔 한다.\n",
        "        break"
      ]
    },
    {
      "cell_type": "markdown",
      "source": [
        "> strip('\\n')은 입력을 인쇄하기 전에 입력에서 개행 문자를 제거하는 데 사용된다. 그러나, 별도의 조건문 없이는 \"출력 초과\" 오류가 발생한다. 그 이유는 입력 줄이 비어 있는 경우 (문자가 없고 개행만 있음)에 코드가 중단되지 못하고 계속 공백을 print하게 된다. 따라서 **\"출력 초과\" 오류를 방지하려면 입력 끝에 도달하거나 특정 입력이 발생하는 등 특정 조건이 충족될 때 루프를 중단하는 조건을 추가할 수 있습니다.**"
      ],
      "metadata": {
        "id": "cyOUjepcboAP"
      }
    },
    {
      "cell_type": "code",
      "source": [
        "# 10820\n",
        "import sys\n",
        "\n",
        "while True :\n",
        "  try :\n",
        "    inp = input().strip('\\n')\n",
        "    listinp = list(inp)\n",
        "    if len(listinp) == 0:\n",
        "      break\n",
        "    small =  0\n",
        "    big = 0\n",
        "    num = 0\n",
        "    space = 0\n",
        "    for i in listinp:\n",
        "      if i == ' ':\n",
        "        space += 1\n",
        "      elif str(i).isupper():\n",
        "        big += 1\n",
        "      elif str(i).islower():\n",
        "        small += 1\n",
        "      elif str(i).isdigit():\n",
        "        num += 1\n",
        "    print(small, big, num, space)\n",
        "\n",
        "  except:\n",
        "    break"
      ],
      "metadata": {
        "colab": {
          "base_uri": "https://localhost:8080/"
        },
        "id": "YtABd7DMdFeq",
        "outputId": "c6913717-5885-4fc6-d5d4-ea35f54f997b"
      },
      "execution_count": 5,
      "outputs": [
        {
          "name": "stdout",
          "output_type": "stream",
          "text": [
            "SPACE    1    SPACE\n",
            "['S', 'P', 'A', 'C', 'E', ' ', ' ', ' ', ' ', '1', ' ', ' ', ' ', ' ', 'S', 'P', 'A', 'C', 'E']\n",
            "0 11 0 8\n",
            " S a M p L e I n P u T \n",
            "[' ', 'S', ' ', 'a', ' ', 'M', ' ', 'p', ' ', 'L', ' ', 'e', ' ', 'I', ' ', 'n', ' ', 'P', ' ', 'u', ' ', 'T', ' ']\n",
            "0 11 0 12\n",
            "\n"
          ]
        }
      ]
    },
    {
      "cell_type": "markdown",
      "source": [
        "### isdecimal(), isdigit(), isnumeric()\n",
        "- a가 그냥 평범한 숫자 문자열일때는\n",
        "\n",
        "```python\n",
        "a = '12345678'\n",
        "print(a.isdigit())\n",
        ">>> True\n",
        "print(a.isdecimal())\n",
        ">>> True\n",
        "print(a.isnumeric())\n",
        ">>> True\n",
        "```\n",
        "\n",
        "```python\n",
        "a = '3²'\n",
        "print(a.isdigit())\n",
        ">>> True\n",
        "print(a.isdecimal())\n",
        ">>> False\n",
        "print(a.isnumeric())\n",
        ">>> True\n",
        "```\n",
        "> - isdigit() 함수는 단일 글자가 '숫자' 모양으로 생겼으면 무조건 True를 반환하는 함수. 즉, 숫자처럼 생긴 '모든 글자'를 숫자로 친다.\n",
        "- 그에 비해 isdecimal() 함수는 주어진 문자열이 int형으로 변환이 가능한지 알아내는 함수이기 때문에 특수문자 중 숫자모양을 숫자로 치지않는다.\n",
        "- isnumeric() 함수는 숫자값 표현에 해당하는 문자열까지 인정한다. 제곱근 및 분수, 거듭제곱 특수문자도 isnumeric() 함수는 True를 반환하는 것을 알 수 있다."
      ],
      "metadata": {
        "id": "qX4LHcH6ftv6"
      }
    },
    {
      "cell_type": "markdown",
      "source": [
        "대소문자 구별\n",
        "- ~~.upper() : 모두 다 대문자로\n",
        "- ~~.lower() : 모두 다 소문자로\n",
        "- ~~.isupper() : 모두 다 대문자로 구성되어 있는지\n",
        "- ~~.islower() : 모두 다 소문자로 구성되어 있는지"
      ],
      "metadata": {
        "id": "9TL4kGJrfLWs"
      }
    }
  ]
}