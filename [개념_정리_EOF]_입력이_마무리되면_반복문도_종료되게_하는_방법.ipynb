{
  "nbformat": 4,
  "nbformat_minor": 0,
  "metadata": {
    "colab": {
      "provenance": []
    },
    "kernelspec": {
      "name": "python3",
      "display_name": "Python 3"
    },
    "language_info": {
      "name": "python"
    }
  },
  "cells": [
    {
      "cell_type": "markdown",
      "source": [
        " - 총 몇 줄이 주어진다 등의 정보는 입력으로 주지 않는다. - 단순히 키보드로 입력 내용만 적고 프로그램이 종료되지 않은 상태까지만 봐서는 EOF를 제대로 처리했는지 알 수 없다.\n",
        " > **더 이상 읽을 게 없을 때 프로그램을 종료하는 법**"
      ],
      "metadata": {
        "id": "u8KtA8Vp_IJo"
      }
    },
    {
      "cell_type": "markdown",
      "source": [
        "- (Python) input()은 EOFError를 발생시킵니다.\n",
        "- **(Python) sys.stdin.readline()은 빈 문자열을 반환합니다.**\n",
        "-  더 이상 읽을 내용이 없다면 '' (빈 문자열)을 반환합니다. Null 값은 파이썬에서 None을 나타내는데, readline() 함수는 None을 반환하지 않습니다."
      ],
      "metadata": {
        "id": "tZt7lzYL_YnU"
      }
    },
    {
      "cell_type": "markdown",
      "source": [
        "### [[ **주의 사항** ]]"
      ],
      "metadata": {
        "id": "8-pOp9Le_47T"
      }
    },
    {
      "cell_type": "markdown",
      "source": [
        "- 1. 입력받은 내용을 모조리 저장해 놓고 나중에 몰아서 출력할 필요가 없습니다. 입력 스트림과 출력 스트림은 별개이므로, 입력받자마자 바로 출력해도 됩니다. 한 글자 단위로도 상관 없고, 한 줄 단위로도 상관 없습니다.\n",
        "\n",
        "- 2. 불필요한 것들을 출력하면 틀립니다. 대표적으로, 매 줄마다 무조건 100글자를 출력하는 프로그램은 무조건 틀립니다. 입력받은 내용이 아닌 부분은 절대 출력하려 해서는 안 됩니다. 특히 널 문자는 일부 환경에서 공백과 비슷하게 출력되어 눈치채지 못하는 경우가 많은데, 널 문자도 엄연히 하나의 문자이며 이를 출력했을 경우 무조건 오답이 됩니다.\n",
        "\n",
        "- 3. 코드를 직접 테스트 해보려면 입력 내용을 파일에 저장해 놓고 freopen 등을 이용해서 프로그램에 표준 입력으로 보내주거나, 터미널에서 파이프로 넘겨주나, 또는 직접 키보드로 치다가 컨트롤 Z (윈도우즈), 컨트롤 D (맥, 리눅스) 를 눌러주는 방법이 있습니다. 이상하게도, 윈도우즈의 경우 컨트롤 Z를 여러 번 입력해줘야 인식되는 경우가 있는 것 같습니다."
      ],
      "metadata": {
        "id": "uUk6xz6yALoo"
      }
    },
    {
      "cell_type": "code",
      "source": [
        "# 예시\n",
        "import sys\n",
        "\n",
        "while True:\n",
        "    try:\n",
        "        line = sys.stdin.readline().strip('\\n')\n",
        "        if not line:\n",
        "            break\n",
        "            # Break the loop if no input is provided\n",
        "            #  line에 '' 빈 문자열이 들어가면 반복문 중지\n",
        "        print(line)\n",
        "    except EOFError: # EORError는 file의 끝이라는 특정 오류에만 반복문이 멈추게끔 한다.\n",
        "        break"
      ],
      "metadata": {
        "id": "Atr3dcGAbQot"
      },
      "execution_count": null,
      "outputs": []
    },
    {
      "cell_type": "markdown",
      "source": [
        "strip('\\n')은 입력을 인쇄하기 전에 입력에서 개행 문자를 제거하는 데 사용된다. 그러나, 별도의 조건문 없이는 \"출력 초과\" 오류가 발생한다. 그 이유는 입력 줄이 비어 있는 경우 (문자가 없고 개행만 있음)에 코드가 중단되지 못하고 계속 공백을 print하게 된다. 따라서 \"출력 초과\" 오류를 방지하려면 입력 끝에 도달하거나 특정 입력이 발생하는 등 특정 조건이 충족될 때 루프를 중단하는 조건을 추가할 수 있습니다."
      ],
      "metadata": {
        "id": "DsOrbTB1_AXq"
      }
    }
  ]
}