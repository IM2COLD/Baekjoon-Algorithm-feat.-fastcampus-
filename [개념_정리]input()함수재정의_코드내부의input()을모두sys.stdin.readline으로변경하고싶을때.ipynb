{
  "nbformat": 4,
  "nbformat_minor": 0,
  "metadata": {
    "colab": {
      "provenance": []
    },
    "kernelspec": {
      "name": "python3",
      "display_name": "Python 3"
    },
    "language_info": {
      "name": "python"
    }
  },
  "cells": [
    {
      "cell_type": "markdown",
      "source": [
        "\n",
        "- 백준은 입력값을 받아서 문제를 푸는 구조이다.\n",
        "```python\n",
        "# 1\n",
        "input()\n",
        "```\n",
        "```python\n",
        "# 2\n",
        "import sys\n",
        "sys.stdin.readline()\n",
        "```\n",
        "\n",
        "- 이 둘은 기능상으로는 큰 차이가 없지만, 속도 차이가 큽니다.\n",
        "- 그래서 이전에 input()으로 작성했던 code가 runtime error가 발생하면 적혀있는 input들을 전부 변경하지 않고,\n",
        "다음의 코드만 코드의 가장 위에 추가한다면 input이 sys.stdin.readline의 속도를 갖게 된다.\n",
        "```python\n",
        "import sys\n",
        "input = sys.stdin.readline().strip\n",
        "```"
      ],
      "metadata": {
        "id": "wsMIiMy4ehJO"
      }
    },
    {
      "cell_type": "code",
      "source": [
        "import sys\n",
        "input = sys.stdin.readline().strip() # strip을 통한 개행 문자 제거\n",
        "\n",
        "for i in range(2):\n",
        "  p = input()\n",
        "  print(p)"
      ],
      "metadata": {
        "id": "SEL-kgkbgA1G"
      },
      "execution_count": 7,
      "outputs": []
    },
    {
      "cell_type": "markdown",
      "source": [
        "> colab과 같은 대화형 인터페이스에서 간편하게 입력을 받기 위해서는 input()을 사용하고, 대량의 입력이나 파일에서 입력을 처리하는 등 성능이 중요한 상황의 경우 sys.stdin.readline()을 사용하는 것이 좋다.\n"
      ],
      "metadata": {
        "id": "2ufGe_kEiEVB"
      }
    }
  ]
}