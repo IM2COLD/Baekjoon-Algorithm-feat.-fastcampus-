{
  "nbformat": 4,
  "nbformat_minor": 0,
  "metadata": {
    "colab": {
      "provenance": []
    },
    "kernelspec": {
      "name": "python3",
      "display_name": "Python 3"
    },
    "language_info": {
      "name": "python"
    }
  },
  "cells": [
    {
      "cell_type": "code",
      "execution_count": null,
      "metadata": {
        "id": "YMosmsBNevkE"
      },
      "outputs": [],
      "source": [
        "# 1330\n",
        "A, B = map(int, input().split())\n",
        "if A > B:\n",
        "  print('>')\n",
        "elif A == B:\n",
        "  print('==')\n",
        "else:\n",
        "  print('<')"
      ]
    },
    {
      "cell_type": "code",
      "source": [
        "# 9498\n",
        "score = int(input())\n",
        "if 90 <= score and score <=100:\n",
        "  print('A')\n",
        "elif 80 <= score and score <= 89:\n",
        "  print('B')\n",
        "elif 70 <= score and score <= 79:\n",
        "  print('C')\n",
        "elif 60 <= score and score <= 69:\n",
        "  print('D')\n",
        "else :\n",
        "  print('F')"
      ],
      "metadata": {
        "id": "jsYXF6cWe2Ow"
      },
      "execution_count": null,
      "outputs": []
    },
    {
      "cell_type": "code",
      "source": [
        "# 2753\n",
        "year = int(input())\n",
        "if (year % 4 == 0 and year % 100 != 0) or year % 400 == 0:\n",
        "  print(1)\n",
        "else :\n",
        "  print(0)"
      ],
      "metadata": {
        "colab": {
          "base_uri": "https://localhost:8080/"
        },
        "id": "fH9q1iQne3DG",
        "outputId": "11dc4975-da19-47b8-8dff-a9ca25a50cb5"
      },
      "execution_count": 6,
      "outputs": [
        {
          "output_type": "stream",
          "name": "stdout",
          "text": [
            "1900\n",
            "0\n"
          ]
        }
      ]
    },
    {
      "cell_type": "code",
      "source": [
        "# 14681\n",
        "x = int(input())\n",
        "y = int(input())\n",
        "if x > 0 and y > 0:\n",
        "  print(1)\n",
        "elif x < 0 and y > 0:\n",
        "  print(2)\n",
        "if x < 0 and y < 0:\n",
        "  print(3)\n",
        "if x > 0 and y < 0:\n",
        "  print(4)"
      ],
      "metadata": {
        "id": "tTCy_qsOe3tX"
      },
      "execution_count": null,
      "outputs": []
    },
    {
      "cell_type": "code",
      "source": [
        "# 2884\n",
        "h, m = map(int, input().split())\n",
        "totalmin = (60 * h) + (1 * m)\n",
        "minus = totalmin - 45\n",
        "\n",
        "if minus < 0:\n",
        "  rst = 24 * 60 + minus\n",
        "  h = rst // 60\n",
        "  m = (rst - h*60)\n",
        "  print(h, m)\n",
        "\n",
        "elif minus == 0:\n",
        "  print('0 0')\n",
        "\n",
        "else :\n",
        "  h = minus // 60\n",
        "  m = (minus - h*60)\n",
        "  print(h, m)"
      ],
      "metadata": {
        "colab": {
          "base_uri": "https://localhost:8080/"
        },
        "id": "nHlZ6ygye4Ym",
        "outputId": "9bb831be-d328-4038-85ca-2f4e7cbe6cb3"
      },
      "execution_count": 11,
      "outputs": [
        {
          "output_type": "stream",
          "name": "stdout",
          "text": [
            "10 10 \n",
            "9 25\n"
          ]
        }
      ]
    },
    {
      "cell_type": "code",
      "source": [
        "# 2525\n",
        "hour, min = map(int, input().split())\n",
        "doing = int(input())\n",
        "total = hour * 60 + min * 1 + doing\n",
        "if total >= (60 * 24):\n",
        "  total = total % (60 * 24)\n",
        "\n",
        "h = total // 60\n",
        "m = total - 60 * h\n",
        "print(h, m)"
      ],
      "metadata": {
        "colab": {
          "base_uri": "https://localhost:8080/"
        },
        "id": "VlnRySy9e5Av",
        "outputId": "d3704445-d32e-4690-cf0a-6087de1b890f"
      },
      "execution_count": 15,
      "outputs": [
        {
          "output_type": "stream",
          "name": "stdout",
          "text": [
            "23 48\n",
            "25\n",
            "0 13\n"
          ]
        }
      ]
    },
    {
      "cell_type": "code",
      "source": [
        "# 2480\n",
        "A, B, C = map(int, input().split())\n",
        "if A == B and B == C:\n",
        "  print(10000 + A * 1000)\n",
        "elif A == B:\n",
        "  print(1000 + 100 * A)\n",
        "elif C == B:\n",
        "  print(1000 + 100 * B)\n",
        "elif A == C:\n",
        "  print(1000 + 100 * C)\n",
        "else :\n",
        "  k = max(A,B,C)\n",
        "  print(100 * k)"
      ],
      "metadata": {
        "colab": {
          "base_uri": "https://localhost:8080/"
        },
        "id": "yTgjb0S5e5o2",
        "outputId": "fb47cbe2-77a4-4c45-e04f-f8fd9baae10b"
      },
      "execution_count": 17,
      "outputs": [
        {
          "output_type": "stream",
          "name": "stdout",
          "text": [
            "3 3 6\n",
            "1300\n"
          ]
        }
      ]
    }
  ]
}