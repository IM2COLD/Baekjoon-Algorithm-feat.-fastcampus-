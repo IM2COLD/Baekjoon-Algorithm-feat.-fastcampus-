{
  "nbformat": 4,
  "nbformat_minor": 0,
  "metadata": {
    "colab": {
      "provenance": []
    },
    "kernelspec": {
      "name": "python3",
      "display_name": "Python 3"
    },
    "language_info": {
      "name": "python"
    }
  },
  "cells": [
    {
      "cell_type": "markdown",
      "source": [
        "> **일반적인 형태에서 \\*의 사용과 함수에서의 \\*사용 비교**"
      ],
      "metadata": {
        "id": "NKmMN_zPWb8Z"
      }
    },
    {
      "cell_type": "code",
      "execution_count": 2,
      "metadata": {
        "colab": {
          "base_uri": "https://localhost:8080/"
        },
        "id": "_EofwsnJWX2H",
        "outputId": "ae41021e-dffa-4744-97a8-44b5f3d8fc20"
      },
      "outputs": [
        {
          "output_type": "stream",
          "name": "stdout",
          "text": [
            "10\n",
            "20\n",
            "['a', 'c']\n"
          ]
        }
      ],
      "source": [
        "# 일반적인 형태에서의 * 사용\n",
        "# - c는 a, b가 값을 받고 남은 값들을 list 형태로 부여 받는다.\n",
        "a, b, *c = 10, 20, 'a', 'c'\n",
        "print(a)\n",
        "print(b)\n",
        "print(c)"
      ]
    },
    {
      "cell_type": "code",
      "source": [
        "# 함수에서의 *의 사용\n",
        "def func1(a,b,*c):\n",
        "  print(a)\n",
        "  print(b)\n",
        "  print(c)\n",
        "\n",
        "func1(10,20,'a', 'b')"
      ],
      "metadata": {
        "colab": {
          "base_uri": "https://localhost:8080/"
        },
        "id": "2v-S-2E-W8HQ",
        "outputId": "808eb874-54a3-48c3-d0dd-29eaf4e20ce1"
      },
      "execution_count": 3,
      "outputs": [
        {
          "output_type": "stream",
          "name": "stdout",
          "text": [
            "10\n",
            "20\n",
            "('a', 'b')\n"
          ]
        }
      ]
    },
    {
      "cell_type": "markdown",
      "source": [
        "- 차이점 :  **함수에서는 c가 list 형태가 아닌 tuple이다.**\n",
        "- 추가로, 함수에서 \\*를 사용할 때에는 \\*args 형태로 사용한다. 관습적인 것이라 실제 output에는 상관이 없지만 지키는 것이 좋다."
      ],
      "metadata": {
        "id": "DwtRmtkdXJ_D"
      }
    },
    {
      "cell_type": "markdown",
      "source": [
        ">### **주의 사항**\n",
        "- positional argument를 이요할 때에는 \\*가 가운데 오면 안된다.\n",
        "- 매개변수의 가장 마지막에 와야 한다.\n",
        "- 함수를 정의할 때, 변수명에 \\*를 사용할 때에는 조심해서 사용해야 한다."
      ],
      "metadata": {
        "id": "wMk2EbVVXm7X"
      }
    },
    {
      "cell_type": "code",
      "source": [
        "a, *b, c = 10, 20, 'a', 'c'\n",
        "print(a)\n",
        "print(b)\n",
        "print(c)"
      ],
      "metadata": {
        "colab": {
          "base_uri": "https://localhost:8080/"
        },
        "id": "9JvIJULVYItJ",
        "outputId": "8017de76-4b6d-4666-b6bd-6d49b2e78d08"
      },
      "execution_count": 5,
      "outputs": [
        {
          "output_type": "stream",
          "name": "stdout",
          "text": [
            "10\n",
            "[20, 'a']\n",
            "c\n"
          ]
        }
      ]
    },
    {
      "cell_type": "code",
      "source": [
        "def func1(a, *b, c):\n",
        "  print(a)\n",
        "  print(b)\n",
        "  print(c)\n",
        "\n",
        "func1(10,20,'a','c')"
      ],
      "metadata": {
        "colab": {
          "base_uri": "https://localhost:8080/",
          "height": 220
        },
        "id": "CDn9HmBxX9-b",
        "outputId": "20a68a2d-deb1-4153-e535-45429cec70fc"
      },
      "execution_count": 4,
      "outputs": [
        {
          "output_type": "error",
          "ename": "TypeError",
          "evalue": "func1() missing 1 required keyword-only argument: 'c'",
          "traceback": [
            "\u001b[0;31m---------------------------------------------------------------------------\u001b[0m",
            "\u001b[0;31mTypeError\u001b[0m                                 Traceback (most recent call last)",
            "\u001b[0;32m<ipython-input-4-8496a6a1e3e2>\u001b[0m in \u001b[0;36m<cell line: 6>\u001b[0;34m()\u001b[0m\n\u001b[1;32m      4\u001b[0m   \u001b[0mprint\u001b[0m\u001b[0;34m(\u001b[0m\u001b[0mc\u001b[0m\u001b[0;34m)\u001b[0m\u001b[0;34m\u001b[0m\u001b[0;34m\u001b[0m\u001b[0m\n\u001b[1;32m      5\u001b[0m \u001b[0;34m\u001b[0m\u001b[0m\n\u001b[0;32m----> 6\u001b[0;31m \u001b[0mfunc1\u001b[0m\u001b[0;34m(\u001b[0m\u001b[0;36m10\u001b[0m\u001b[0;34m,\u001b[0m\u001b[0;36m20\u001b[0m\u001b[0;34m,\u001b[0m\u001b[0;34m'a'\u001b[0m\u001b[0;34m,\u001b[0m\u001b[0;34m'c'\u001b[0m\u001b[0;34m)\u001b[0m\u001b[0;34m\u001b[0m\u001b[0;34m\u001b[0m\u001b[0m\n\u001b[0m",
            "\u001b[0;31mTypeError\u001b[0m: func1() missing 1 required keyword-only argument: 'c'"
          ]
        }
      ]
    },
    {
      "cell_type": "code",
      "source": [
        "# 굳이 *를 가운데에 위치시키고 싶다면\n",
        "# positional argument를 지정해주면 된다.\n",
        "def func1(a, *b, c = 'e'):\n",
        "  print(a)\n",
        "  print(b)\n",
        "  print(c)\n",
        "\n",
        "func1(10,20,'a','c')"
      ],
      "metadata": {
        "colab": {
          "base_uri": "https://localhost:8080/"
        },
        "id": "aINKsgdcYXbM",
        "outputId": "cc0e3694-3588-45e5-ac5d-536067f08ee5"
      },
      "execution_count": 7,
      "outputs": [
        {
          "output_type": "stream",
          "name": "stdout",
          "text": [
            "10\n",
            "(20, 'a', 'c')\n",
            "e\n"
          ]
        }
      ]
    },
    {
      "cell_type": "markdown",
      "source": [
        ">#### **위에서는 함수를 정의할 때 매개변수에 \\*를 붙여주었는데, 이번에는 함수를 실행할 때, 인자에 \\*를 붙여보기로 하자.**\n",
        "\n",
        "- 매개변수 : 함수에 입력값으로 선언한 parameter 변수\n",
        "- 인자 : 매개변수에 들어가는 실제 입력값"
      ],
      "metadata": {
        "id": "yhg9A-j2Yman"
      }
    },
    {
      "cell_type": "code",
      "source": [
        "# 함수는 알아서 list 원소들을 unpacking 해주지 않는다.\n",
        "l = [10,20,30]\n",
        "def func1(a,b,c):\n",
        "  print(a)\n",
        "  print(b)\n",
        "  print(c)\n",
        "\n",
        "func1(l)"
      ],
      "metadata": {
        "colab": {
          "base_uri": "https://localhost:8080/",
          "height": 220
        },
        "id": "ycyacDUtZe_R",
        "outputId": "52ef5083-dc3a-4c07-a243-35d454e54aec"
      },
      "execution_count": 8,
      "outputs": [
        {
          "output_type": "error",
          "ename": "TypeError",
          "evalue": "func1() missing 2 required positional arguments: 'b' and 'c'",
          "traceback": [
            "\u001b[0;31m---------------------------------------------------------------------------\u001b[0m",
            "\u001b[0;31mTypeError\u001b[0m                                 Traceback (most recent call last)",
            "\u001b[0;32m<ipython-input-8-0cff2b2bdbbc>\u001b[0m in \u001b[0;36m<cell line: 7>\u001b[0;34m()\u001b[0m\n\u001b[1;32m      5\u001b[0m   \u001b[0mprint\u001b[0m\u001b[0;34m(\u001b[0m\u001b[0mc\u001b[0m\u001b[0;34m)\u001b[0m\u001b[0;34m\u001b[0m\u001b[0;34m\u001b[0m\u001b[0m\n\u001b[1;32m      6\u001b[0m \u001b[0;34m\u001b[0m\u001b[0m\n\u001b[0;32m----> 7\u001b[0;31m \u001b[0mfunc1\u001b[0m\u001b[0;34m(\u001b[0m\u001b[0ml\u001b[0m\u001b[0;34m)\u001b[0m\u001b[0;34m\u001b[0m\u001b[0;34m\u001b[0m\u001b[0m\n\u001b[0m",
            "\u001b[0;31mTypeError\u001b[0m: func1() missing 2 required positional arguments: 'b' and 'c'"
          ]
        }
      ]
    },
    {
      "cell_type": "code",
      "source": [
        "# 따라서, 함수를 실행할 때 넣는 인자에 *을 추가해주어야 한다.\n",
        "# unpacking이 완료된 값들을 func1의 인수값으로 넣어주면 원하는 값을 가질 수 있다.\n",
        "l = [10,20,30]\n",
        "def func1(a,b,c):\n",
        "  print(a)\n",
        "  print(b)\n",
        "  print(c)\n",
        "\n",
        "func1(*l)"
      ],
      "metadata": {
        "colab": {
          "base_uri": "https://localhost:8080/"
        },
        "id": "aKXTrQxFZ2hN",
        "outputId": "b66c9087-88dd-4673-8b10-6f88ade13354"
      },
      "execution_count": 9,
      "outputs": [
        {
          "output_type": "stream",
          "name": "stdout",
          "text": [
            "10\n",
            "20\n",
            "30\n"
          ]
        }
      ]
    },
    {
      "cell_type": "markdown",
      "source": [
        "> ### **함수를 정의할 때 매개변수에 \\*를 붙히는 것과 함수 인수로 사용하기 위해 unpacking할 때 사용하는 \\*를 잘 구별해야 한다.**"
      ],
      "metadata": {
        "id": "jVQ8gtvTZAqL"
      }
    }
  ]
}