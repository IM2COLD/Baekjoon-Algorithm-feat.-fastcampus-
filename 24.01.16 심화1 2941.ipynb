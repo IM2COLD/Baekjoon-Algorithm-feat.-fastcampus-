{
  "nbformat": 4,
  "nbformat_minor": 0,
  "metadata": {
    "colab": {
      "provenance": []
    },
    "kernelspec": {
      "name": "python3",
      "display_name": "Python 3"
    },
    "language_info": {
      "name": "python"
    }
  },
  "cells": [
    {
      "cell_type": "markdown",
      "source": [
        "print ( ' / '.join(list_name) )"
      ],
      "metadata": {
        "id": "unX-TYTvvEYb"
      }
    },
    {
      "cell_type": "code",
      "source": [
        "lst = ['c=','c-', 'dz=', 'd-']\n",
        "lst[4:]"
      ],
      "metadata": {
        "colab": {
          "base_uri": "https://localhost:8080/"
        },
        "id": "goVNiRFHVhQh",
        "outputId": "a82f3d91-b4bd-4682-bf99-74855fe54738"
      },
      "execution_count": 3,
      "outputs": [
        {
          "output_type": "execute_result",
          "data": {
            "text/plain": [
              "[]"
            ]
          },
          "metadata": {},
          "execution_count": 3
        }
      ]
    },
    {
      "cell_type": "code",
      "execution_count": 11,
      "metadata": {
        "colab": {
          "base_uri": "https://localhost:8080/"
        },
        "id": "uC2B-Pq0sJjj",
        "outputId": "37cde710-7220-4811-97be-8cc6a62a967f"
      },
      "outputs": [
        {
          "output_type": "stream",
          "name": "stdout",
          "text": [
            "dz=ak\n",
            "3\n"
          ]
        }
      ],
      "source": [
        "wordlist = list(input())\n",
        "lst = ['c=','c-', 'dz=', 'd-', 'lj', 'nj', 's=', 'z=']\n",
        "addword = []\n",
        "while len(wordlist) > 2:\n",
        "  if ''.join(wordlist[:2]) in lst:\n",
        "    addword.append(''.join(wordlist[:2]))\n",
        "    wordlist = wordlist[2:]\n",
        "  elif ''.join(wordlist[:3]) in lst:\n",
        "    addword.append(''.join(wordlist[:3]))\n",
        "    wordlist = wordlist[3:]\n",
        "  else:\n",
        "    addword.append(''.join(wordlist[0]))\n",
        "    wordlist = wordlist[1:]\n",
        "\n",
        "if len(wordlist) == 2:\n",
        "  if ''.join(wordlist[:2]) in lst:\n",
        "    addword.append(''.join(wordlist[:2]))\n",
        "    print(len(addword))\n",
        "  else:\n",
        "    addword.append(''.join(wordlist[0]))\n",
        "    addword.append(''.join(wordlist[1]))\n",
        "    print(len(addword))\n",
        "elif len(wordlist) == 1:\n",
        "  addword.append(''.join(wordlist[:2]))\n",
        "  print(len(addword))\n",
        "else:\n",
        "  print(len(addword))"
      ]
    },
    {
      "cell_type": "markdown",
      "source": [
        "### 모범 답안\n",
        "\n",
        "\n",
        "```python\n",
        "# 1\n",
        "import re\n",
        "print(len(re.sub('dz=|lj|nj|\\w\\W','_',input())))\n",
        "\n",
        "# 2\n",
        "print(len(s:=input())-sum(map(s.count,('=','-','lj','nj','dz='))))\n",
        "```\n",
        "- := 연산자는 \"월러스 연산자\"\n",
        "- 표현식의 일부로 변수에 값을 할당 가능\n",
        "- 입력 값을 즉시 사용하려는 경우에 유용\n",
        "---\n",
        "- 정규 표현식을 다루기 위한 Python 내장 모듈인 re\n",
        "- re.sub(pattern, replacement, string): 정규 표현식 패턴에 매칭되는 부분을 대체 문자열로 교체합니다. 여기서는 'dz=|lj|nj|\\w\\W' 패턴에 매칭되는 부분을 '_'로 대체합니다.\n",
        "- dz=: 'dz=' 문자열에 매칭\n",
        "- lj: 'lj' 문자열에 매칭\n",
        "- nj: 'nj' 문자열에 매칭\n",
        "- \\w\\W: 단어 문자(알파벳, 숫자, 밑줄)와 그 외의 문자에 매칭"
      ],
      "metadata": {
        "id": "q8t6QK_aX1YS"
      }
    }
  ]
}