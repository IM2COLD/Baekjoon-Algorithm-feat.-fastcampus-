{
  "nbformat": 4,
  "nbformat_minor": 0,
  "metadata": {
    "colab": {
      "provenance": []
    },
    "kernelspec": {
      "name": "python3",
      "display_name": "Python 3"
    },
    "language_info": {
      "name": "python"
    }
  },
  "cells": [
    {
      "cell_type": "code",
      "execution_count": null,
      "metadata": {
        "id": "biM_JvLM-Ozh",
        "colab": {
          "base_uri": "https://localhost:8080/"
        },
        "outputId": "16d0b831-9d12-4c00-d666-d00f41acd615"
      },
      "outputs": [
        {
          "output_type": "stream",
          "name": "stdout",
          "text": [
            "ProblemSolving 4.0 P\n",
            "CompilerDesign 3.0 D0\n",
            "CapstoneDesigninCSE 3.0 B+\n",
            "DepthFirstSearch 4.0 F\n",
            "DataStructure 4.0 A+\n",
            "2.6785714285714284\n"
          ]
        }
      ],
      "source": [
        "# 25206\n",
        "import sys\n",
        "listA = []\n",
        "listB = []\n",
        "\n",
        "for _ in range(20):\n",
        "  string = sys.stdin.readline().strip('\\n')\n",
        "  if string[-1] == 'P':\n",
        "    continue\n",
        "  elif string[-1] == 'F':\n",
        "    listB.append(0)\n",
        "    listA.append(int(float(string[-5:-2])))\n",
        "    continue\n",
        "\n",
        "  string = string[-6 : ]\n",
        "  cls = int(float(string[:3]))\n",
        "  listA.append(cls)\n",
        "\n",
        "  score = string[4:]\n",
        "\n",
        "  if score == 'A+':\n",
        "    listB.append(4.5)\n",
        "  elif score == 'A0':\n",
        "    listB.append(4.0)\n",
        "  elif score == 'B+':\n",
        "    listB.append(3.5)\n",
        "  elif score == 'B0':\n",
        "    listB.append(3.0)\n",
        "  elif score == 'C+':\n",
        "    listB.append(2.5)\n",
        "  elif score == 'C0':\n",
        "    listB.append(2.0)\n",
        "  elif score == 'D+':\n",
        "    listB.append(1.5)\n",
        "  elif score == 'D0':\n",
        "    listB.append(1.0)\n",
        "\n",
        "sumscore = [a*b for a, b in zip(listA, listB)]\n",
        "total = sum(sumscore)\n",
        "print(total / sum(listA))"
      ]
    },
    {
      "cell_type": "markdown",
      "source": [
        "### 모범 답안\n",
        "```python\n",
        "# 1\n",
        "g,s,v=['F','0','D0','D+','C0','C+','B0','B+','A0','A+'],0,0\n",
        "for i in range(20):\n",
        " a,b,c=input().split()\n",
        " b=float(b)\n",
        " if c!='P':\n",
        "  s+=b\n",
        "  v+=g.index(c)/2*b\n",
        "print(v/s)\n",
        "```\n",
        "\n",
        "```python\n",
        "# 2\n",
        "t=s=0\n",
        "for i in open(0):\n",
        "  c=eval(i[-7:-3]);\n",
        "  s+=c*(i[-2]<'P')\n",
        "  t+=(' DCBA'.find(i[-3])+('+'in i)/2)*c\n",
        "print(t/s)\n",
        "```\n",
        "> 1. t=s=0: t와 s 변수를 0으로 초기화합니다.\n",
        "2. for i in open(0):: 파일의 각 줄을 읽기 위해 루프를 돌립니다. open(0)은 표준 입력(standard input)에서 데이터를 읽기 위한 파일 객체를 생성합니다.\n",
        "3. c=eval(i[-7:-3]);: 각 줄의 마지막 7번째 문자부터 3번째 문자 사이의 문자열을 추출하고, 이를 eval 함수를 사용하여 파이썬 코드로 실행합니다. 그 결과를 c 변수에 저장합니다.\n",
        "4. s+=c*(i[-2]<'P'): i의 마지막에서 2번째 문자가 'P'보다 작은 경우('<' 연산자로 비교), s에 c 값을 더합니다. 그렇지 않은 경우에는 s에는 아무런 변화가 없습니다.\n",
        "5. t+=(' DCBA'.find(i[-3])+('+'in i)/2)*c: i의 마지막에서 3번째 문자를 ' DCBA'에서 찾아서 해당 인덱스를 가져옵니다. 또한, + 기호가 i에 있는지 여부를 확인하고, 그 결과를 2로 나눈 값을 더합니다. 이 값을 c와 곱한 후, t에 더합니다.\n",
        "6. print(t/s): 최종적으로 계산된 t를 s로 나눈 값을 출력합니다.\n",
        "\n"
      ],
      "metadata": {
        "id": "SAK_pHAfXEHN"
      }
    },
    {
      "cell_type": "markdown",
      "source": [
        "> **open()**\n",
        "- open(0)은 표준 입력(standard input)에서 데이터를 읽기 위한 파일 객체를 생성\n",
        "- 파일의 내용을 한 줄씩 읽어오는데 사용된다\n",
        "\n",
        "- \\*open(0):  *는 iterable을 풀어서 각 원소를 개별 인자로 전달하는 기능을 합니다. 따라서 *open(0)은 표준 입력에서 읽은 모든 줄을 개별적인 인자로 전달합니다. 이것은 함수나 다른 컨텍스트에서 여러 값을 개별 인자로 받을 때 유용할 수 있습니다.\n",
        "\n",
        "```python\n",
        "lines = [*open(0)]\n",
        "# open(0)에서 읽은 각 줄이 개별적인 인자로 전달\n",
        "```\n",
        "\n"
      ],
      "metadata": {
        "id": "_GUDIgYTtnvr"
      }
    }
  ]
}