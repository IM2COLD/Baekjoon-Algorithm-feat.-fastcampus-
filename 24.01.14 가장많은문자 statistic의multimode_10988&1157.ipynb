{
  "nbformat": 4,
  "nbformat_minor": 0,
  "metadata": {
    "colab": {
      "provenance": []
    },
    "kernelspec": {
      "name": "python3",
      "display_name": "Python 3"
    },
    "language_info": {
      "name": "python"
    }
  },
  "cells": [
    {
      "cell_type": "code",
      "execution_count": 21,
      "metadata": {
        "id": "TfGqvkVNKE0k",
        "colab": {
          "base_uri": "https://localhost:8080/"
        },
        "outputId": "bcb080c5-b43a-4afb-d869-32d912529a57"
      },
      "outputs": [
        {
          "output_type": "stream",
          "name": "stdout",
          "text": [
            "level\n",
            "1\n"
          ]
        }
      ],
      "source": [
        "# 10988\n",
        "word = list(input())\n",
        "drow = word[::-1]\n",
        "if word == drow:\n",
        "  print(1)\n",
        "else:\n",
        "  print(0)"
      ]
    },
    {
      "cell_type": "markdown",
      "source": [
        "### 모범 답안\n",
        "\n",
        "```python\n",
        "# list로 바꿀 필요 없이 string 타입에서 바로 슬라이싱을 해도 되었었다.\n",
        "d=input()\n",
        "print(+(d == d[::-1]))\n",
        "```\n",
        "- 단항 플러스 연산자는 불리언 결과를 정수로 변환\n",
        "- +True는 1이 되고, +False는 0이 됨\n"
      ],
      "metadata": {
        "id": "R5oeBF_PhZTZ"
      }
    },
    {
      "cell_type": "code",
      "source": [
        "# 1157\n",
        "word = input().lower()\n",
        "lstword = list(word)\n",
        "setword = set(lstword)\n",
        "num = []\n",
        "alpha = []\n",
        "for i in setword:\n",
        "  numb = lstword.count(i)\n",
        "  num.append(numb)\n",
        "  alpha.append([i, numb])\n",
        "maxx = max(num)\n",
        "idx = int(num.index(maxx))\n",
        "if num.count(maxx) > 1:\n",
        "  print('?')\n",
        "else :\n",
        "  print(alpha[idx][0].upper())\n",
        "  # 'sting'.lower() / 'sting'.upeer()"
      ],
      "metadata": {
        "id": "t2jKsWpN6VWe",
        "colab": {
          "base_uri": "https://localhost:8080/"
        },
        "outputId": "c52bda23-f8a3-421d-86e9-2592c9a7f333"
      },
      "execution_count": 18,
      "outputs": [
        {
          "output_type": "stream",
          "name": "stdout",
          "text": [
            "baaa\n",
            "A\n"
          ]
        }
      ]
    },
    {
      "cell_type": "markdown",
      "source": [
        "### 모범 답안\n",
        "\n",
        "```python\n",
        "from statistics import *\n",
        "m = multimode(input().upper())\n",
        "print('?' if len(m) > 1 else m[0])\n",
        "# 삼항 조건식\n",
        "#  리스트 m의 길이가 1보다 크면 가장 빈번한 문자가 하나 이상 있음을 나타내기 위해 '?'를 출력합니다. 그렇지 않으면 리스트 m의 첫 번째 요소를 출력\n",
        "```\n",
        "- ### **multimode()**\n",
        "-  이 함수는 statistics 모듈에서 제공되며 주어진 iterable에서 가장 빈번하게 나타나는 값을 리스트로 반환합니다. 이 경우, 입력된 문자열에서 가장 빈번하게 나타나는 문자들의 리스트를 반환합니다.\n",
        "\n",
        "\n",
        "\n"
      ],
      "metadata": {
        "id": "23MGm869naGW"
      }
    },
    {
      "cell_type": "markdown",
      "source": [
        "### \\*을 통한 unpacking\n",
        "- \\*s는 나머지 모든 값을 리스트에 담는 역할\n",
        "-  이것은 Python의 언패킹(Unpacking) 기능\n",
        "- *s는 나머지 모든 값을 리스트로 가져오는 역할을 합니다. 여러 개의 값을 가진 리스트, 튜플 등에서 필요한 값만 추출하고자 할 때 유용\n",
        "\n",
        "\n",
        "```python\n",
        "# 사용 예시\n",
        "a, *rest = [1, 2, 3, 4]\n",
        "#  a에는 1이 할당되고\n",
        "# rest에는 나머지 값인 [2, 3, 4]가 리스트로 할당\n",
        "```\n",
        "- \\*의 개수에 따라 나머지 값들을 어떻게 처리할지가 결정된다\n",
        "\n",
        "- \\*가 없는 경우\n",
        "\n",
        "```python\n",
        "a, b, c = [1, 2, 3]\n",
        "print(a, b, c)  # 결과: 1 2 3\n",
        "# 이 경우 모든 값이 각 변수에 할당됩니다.\n",
        "```\n",
        "\n",
        "- \\*가 하나인 경우\n",
        "\n",
        "```python\n",
        "a, *rest = [1, 2, 3, 4]\n",
        "print(a)      # 결과: 1\n",
        "print(rest)   # 결과: [2, 3, 4]\n",
        "# 여기서 *rest는 나머지 값들을 리스트로 가져옵니다.\n",
        "```\n",
        "\n",
        "\n",
        "- \\*가 여러 개인 경우\n",
        "\n",
        "```python\n",
        "a, *middle, b, c = [1, 2, 3, 4, 5]\n",
        "print(a)      # 결과: 1\n",
        "print(middle) # 결과: [2, 3]\n",
        "print(b)      # 결과: 4\n",
        "print(c)      # 결과: 5\n",
        "# 여기서 *middle은 나머지 값을 리스트로 가져오며, 그 뒤의 변수 b와 c에는 각각 남은 값들이 할당됩니다.\n",
        "```\n",
        "\n",
        "\n",
        "\n",
        "```python\n",
        "*a, b, c = [1, 2, 3, 4, 5]\n",
        "print(a)      # 결과: [1, 2, 3]\n",
        "print(b)      # 결과: 4\n",
        "print(c)      # 결과: 5\n",
        "```\n"
      ],
      "metadata": {
        "id": "uw-t2iLtsPys"
      }
    }
  ]
}
