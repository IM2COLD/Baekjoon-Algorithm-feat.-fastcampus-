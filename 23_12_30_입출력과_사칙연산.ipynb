{
  "nbformat": 4,
  "nbformat_minor": 0,
  "metadata": {
    "colab": {
      "provenance": []
    },
    "kernelspec": {
      "name": "python3",
      "display_name": "Python 3"
    },
    "language_info": {
      "name": "python"
    }
  },
  "cells": [
    {
      "cell_type": "code",
      "execution_count": null,
      "metadata": {
        "id": "-vx__NEKTBjv"
      },
      "outputs": [],
      "source": [
        "#2557\n",
        "print('Hello World!')"
      ]
    },
    {
      "cell_type": "code",
      "source": [
        "# 1000\n",
        "a, b = input().split()\n",
        "print(int(a) + int(b))"
      ],
      "metadata": {
        "id": "o9I0D_Q8TUjf"
      },
      "execution_count": null,
      "outputs": []
    },
    {
      "cell_type": "code",
      "source": [
        "# 1001\n",
        "a, b = input().split()\n",
        "print(int(a) - int(b))"
      ],
      "metadata": {
        "id": "5h4weUS2Tijs"
      },
      "execution_count": null,
      "outputs": []
    },
    {
      "cell_type": "code",
      "source": [
        "# 10998\n",
        "a, b = input().split()\n",
        "print(int(a) * int(b))"
      ],
      "metadata": {
        "id": "Imaiq-2wTrPc"
      },
      "execution_count": null,
      "outputs": []
    },
    {
      "cell_type": "code",
      "source": [
        "# 1008\n",
        "a, b = input().split()\n",
        "print(int(a) / int(b))"
      ],
      "metadata": {
        "colab": {
          "base_uri": "https://localhost:8080/"
        },
        "id": "NITgxw4CT7qG",
        "outputId": "338259d6-b839-473b-ce4e-947e5a45c267"
      },
      "execution_count": 1,
      "outputs": [
        {
          "output_type": "stream",
          "name": "stdout",
          "text": [
            "4 5\n",
            "0.8\n"
          ]
        }
      ]
    },
    {
      "cell_type": "code",
      "source": [
        "# 10869\n",
        "a, b = map(int,input().split())\n",
        "print( a + b , end = '\\n')\n",
        "print( a - b , end = '\\n')\n",
        "print( a * b , end = '\\n')\n",
        "print( a // b , end = '\\n')\n",
        "print( a % b , end = '\\n')"
      ],
      "metadata": {
        "colab": {
          "base_uri": "https://localhost:8080/"
        },
        "id": "EUMrfl4GT-Fm",
        "outputId": "0a56aa54-cf2d-4e1d-99e7-a4fb7590b981"
      },
      "execution_count": 3,
      "outputs": [
        {
          "output_type": "stream",
          "name": "stdout",
          "text": [
            "7 3\n",
            "10\n",
            "4\n",
            "21\n",
            "2.3333333333333335\n",
            "1\n"
          ]
        }
      ]
    },
    {
      "cell_type": "code",
      "source": [
        "# 10926\n",
        "inp = input()\n",
        "print(inp+'??!')"
      ],
      "metadata": {
        "id": "CL9MYv1TU5rJ"
      },
      "execution_count": null,
      "outputs": []
    },
    {
      "cell_type": "code",
      "source": [
        "#\t18108\n",
        "a = int(2541 - 1998)\n",
        "inpp = int(input())\n",
        "print(inpp - a)"
      ],
      "metadata": {
        "colab": {
          "base_uri": "https://localhost:8080/"
        },
        "id": "zcvvk7JWU6QD",
        "outputId": "1142e26e-aad1-42dd-d11d-24feeb9c1d40"
      },
      "execution_count": 4,
      "outputs": [
        {
          "output_type": "stream",
          "name": "stdout",
          "text": [
            "2541\n",
            "1998\n"
          ]
        }
      ]
    },
    {
      "cell_type": "code",
      "source": [
        "#\t10430\n",
        "# 변수에 값을 할당했으면 값이 할당된 상태에서 변수끼리의 계산으로 바로 출력한다.\n",
        "# print 전에 다른 변수에 계산 값을 저장하게 되면 시간이 오래 걸리게 된다.\n",
        "A, B, C = map(int, input().split())\n",
        "print((A+B)%C)\n",
        "print(((A%C) + (B%C))%C)\n",
        "print((A*B)%C)\n",
        "print(((A%C) * (B%C))%C)"
      ],
      "metadata": {
        "id": "TPf4G7iaU7Np"
      },
      "execution_count": null,
      "outputs": []
    },
    {
      "cell_type": "code",
      "source": [
        "# 2588\n",
        "fir = input()\n",
        "sec = input()\n",
        "print(int(fir) * int(sec[2]))\n",
        "print(int(fir) * int(sec[1]))\n",
        "print(int(fir) * int(sec[0]))\n",
        "print(int(fir) * int(sec))"
      ],
      "metadata": {
        "id": "-uGkwVY3U8J1"
      },
      "execution_count": null,
      "outputs": []
    },
    {
      "cell_type": "code",
      "source": [
        "# 11382\n",
        "A, B, C = map(int, input().split())\n",
        "print(A+B+C)"
      ],
      "metadata": {
        "colab": {
          "base_uri": "https://localhost:8080/"
        },
        "id": "Fi5gsQBTU9E3",
        "outputId": "5da100be-bf64-4014-c4ca-a04f65349c42"
      },
      "execution_count": 7,
      "outputs": [
        {
          "output_type": "stream",
          "name": "stdout",
          "text": [
            "3 5 6\n",
            "14\n"
          ]
        }
      ]
    },
    {
      "cell_type": "code",
      "source": [
        "# 10171\n",
        "print('\\\\    /\\\\')\n",
        "print(\" )  ( ')\")\n",
        "print('(  /  )')\n",
        "print(' \\\\(__)|')"
      ],
      "metadata": {
        "colab": {
          "base_uri": "https://localhost:8080/"
        },
        "id": "HM5yaHxoU-pd",
        "outputId": "4e4c6c8d-e844-46f2-e8ba-a3d3f0ef0a41"
      },
      "execution_count": 10,
      "outputs": [
        {
          "output_type": "stream",
          "name": "stdout",
          "text": [
            "\\    /\\\n",
            " )  ( ')\n",
            "(  /  )\n",
            " \\(__)|\n"
          ]
        }
      ]
    },
    {
      "cell_type": "code",
      "source": [
        "#\t10172\n",
        "print('|\\\\_/|')\n",
        "print('|q p|   /}')\n",
        "print('( 0 )'+'\"'+'\"'+'\"'+'\\\\')\n",
        "print('|'+'\"'+'^\"'+'`    |')\n",
        "print('||_/='+'\\\\'+'\\\\'+'__|')"
      ],
      "metadata": {
        "colab": {
          "base_uri": "https://localhost:8080/"
        },
        "id": "jmWwAnJVU-A1",
        "outputId": "b8c81e4c-ce1f-4eda-9371-2eb7ed6ce66f"
      },
      "execution_count": 13,
      "outputs": [
        {
          "output_type": "stream",
          "name": "stdout",
          "text": [
            "|\\_/|\n",
            "|q p|   /}\n",
            "( 0 )\"\"\"\\\n",
            "|\"^\"`    |\n",
            "||_/=\\\\__|\n"
          ]
        }
      ]
    }
  ]
}