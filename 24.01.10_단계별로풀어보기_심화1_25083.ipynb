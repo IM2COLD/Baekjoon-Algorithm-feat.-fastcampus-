{
  "nbformat": 4,
  "nbformat_minor": 0,
  "metadata": {
    "colab": {
      "provenance": []
    },
    "kernelspec": {
      "name": "python3",
      "display_name": "Python 3"
    },
    "language_info": {
      "name": "python"
    }
  },
  "cells": [
    {
      "cell_type": "code",
      "execution_count": null,
      "metadata": {
        "colab": {
          "base_uri": "https://localhost:8080/"
        },
        "id": "2L88mJ-hhb-g",
        "outputId": "26fea9a6-edd6-4d95-bb5d-a4e7d02e82ae"
      },
      "outputs": [
        {
          "output_type": "stream",
          "name": "stdout",
          "text": [
            "         ,r'\"7\n",
            "r`-_   ,'  ,/\n",
            " \\. \". L_r'\n",
            "   `~\\/\n",
            "      |\n",
            "      |\n"
          ]
        }
      ],
      "source": [
        "#  25083\n",
        "print('''         ,r'\"7\n",
        "r`-_   ,'  ,/\n",
        " \\. \". L_r'\n",
        "   `~\\/\n",
        "      |\n",
        "      |''')"
      ]
    },
    {
      "cell_type": "markdown",
      "source": [
        "### Escape 문자를 활용하여 특수 문자 출력하기\n",
        "\n",
        "```python\n",
        "# ''' text ''' 이렇게 사용할 때에는 줄바꿈에 유의한다.\n",
        "print('''\n",
        "         ,r'\"7\n",
        "r`-_   ,'  ,/\n",
        " \\. \". L_r'\n",
        "   `~\\/\n",
        "      |\n",
        "      |\n",
        "''')\n",
        "# 깔끔해보이려고 줄 바꿈을 했더니 오류가 났다.\n",
        "```\n",
        "\n",
        "### **r'문자열'**\n",
        "- 이스케이프 문자의 의미 무시, 그대로 출력\n",
        "\n",
        "```python\n",
        "print(r'hello data\\nhello data')\n",
        "#hello data\\nhello data\n",
        "```\n",
        "\n"
      ],
      "metadata": {
        "id": "O2soej2rk60F"
      }
    }
  ]
}